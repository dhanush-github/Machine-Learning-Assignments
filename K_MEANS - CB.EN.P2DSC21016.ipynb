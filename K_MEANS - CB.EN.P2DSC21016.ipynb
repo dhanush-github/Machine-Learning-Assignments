{
  "nbformat": 4,
  "nbformat_minor": 0,
  "metadata": {
    "colab": {
      "name": "K-MEANS.ipynb",
      "provenance": [],
      "collapsed_sections": []
    },
    "kernelspec": {
      "name": "python3",
      "display_name": "Python 3"
    },
    "language_info": {
      "name": "python"
    }
  },
  "cells": [
    {
      "cell_type": "markdown",
      "metadata": {
        "id": "_PuK2lNldWR7"
      },
      "source": [
        "# K-Means Clustering"
      ]
    },
    {
      "cell_type": "code",
      "metadata": {
        "id": "ebhPViGUAGRc"
      },
      "source": [
        "import numpy as np\n",
        "import pandas as pd\n",
        "import matplotlib.pyplot as plt\n",
        "import seaborn as sns\n",
        "import random"
      ],
      "execution_count": 14,
      "outputs": []
    },
    {
      "cell_type": "markdown",
      "metadata": {
        "id": "JBU4Hbvbdq__"
      },
      "source": [
        "**Generating the Dataset**"
      ]
    },
    {
      "cell_type": "code",
      "metadata": {
        "colab": {
          "base_uri": "https://localhost:8080/",
          "height": 283
        },
        "id": "fb_aSyzYAK0s",
        "outputId": "8a0b078a-94b6-47de-8fe6-bf6b73805d55"
      },
      "source": [
        "mu1 = np.array([5,6])\n",
        "mu2 = np.array([25,10])\n",
        "mu3 = np.array([15,20])\n",
        "sigma = 2* np.identity(2)\n",
        "N=50\n",
        "random.seed(10)\n",
        "clust1 = np.random.multivariate_normal(mu1,sigma,N)\n",
        "random.seed(20)\n",
        "clust2 = np.random.multivariate_normal(mu2,sigma,N)\n",
        "random.seed(30)\n",
        "\n",
        "clust3 = np.random.multivariate_normal(mu3,sigma,N)\n",
        "plt.scatter(x=[clust1[:,0],clust2[:,0],clust3[:,0]],y=[clust1[:,1],clust2[:,1],clust3[:,1]])"
      ],
      "execution_count": 17,
      "outputs": [
        {
          "output_type": "execute_result",
          "data": {
            "text/plain": [
              "<matplotlib.collections.PathCollection at 0x7f2869e10bd0>"
            ]
          },
          "metadata": {},
          "execution_count": 17
        },
        {
          "output_type": "display_data",
          "data": {
            "image/png": "[encoded data removed]",
            "text/plain": [
              "<Figure size 432x288 with 1 Axes>"
            ]
          },
          "metadata": {
            "needs_background": "light"
          }
        }
      ]
    },
    {
      "cell_type": "code",
      "metadata": {
        "id": "eUuH6CRGBFe3"
      },
      "source": [
        "#concatenating the data obtained into a single numpy array\n",
        "x = np.concatenate((clust1,clust2,clust3),axis=0) "
      ],
      "execution_count": 18,
      "outputs": []
    },
    {
      "cell_type": "code",
      "metadata": {
        "colab": {
          "base_uri": "https://localhost:8080/"
        },
        "id": "fP34eioaBI3S",
        "outputId": "61fe71b2-0970-47b4-e225-a5f49d94c9c0"
      },
      "source": [
        "x.shape"
      ],
      "execution_count": 20,
      "outputs": [
        {
          "output_type": "execute_result",
          "data": {
            "text/plain": [
              "(150, 2)"
            ]
          },
          "metadata": {},
          "execution_count": 20
        }
      ]
    },
    {
      "cell_type": "markdown",
      "metadata": {
        "id": "sSjDzZfZeZD_"
      },
      "source": [
        "The key idea:\n",
        "\n",
        "Step 1: random selection of centroids\n",
        "\n",
        "Step 2: calculate distance to each point and assign each point to cluster\n",
        "\n",
        "Step 3: calculate average of the assigned points and\n",
        "\n",
        "Step 4: move centroids to the new position\n",
        "\n",
        "Step 5: Steps 2-4 until cluster assignment is not changed"
      ]
    },
    {
      "cell_type": "code",
      "metadata": {
        "id": "1dfd7jvDBJmt"
      },
      "source": [
        "#This function returns vector norms\n",
        "#Eucledian distance\n",
        "def dist(a, b):\n",
        "    return np.linalg.norm(a - b)"
      ],
      "execution_count": 21,
      "outputs": []
    },
    {
      "cell_type": "code",
      "metadata": {
        "id": "HnqCfPdGBSi5"
      },
      "source": [
        "#def dist_2d(a,b):\n",
        "#    squared_distance = 0\n",
        "#    for i in range(len(a)):\n",
        "#        squared_distance += (a[i] - b[i])**2\n",
        "#    dist = sqrt(squared_distances)\n",
        "#    return dist"
      ],
      "execution_count": 22,
      "outputs": []
    },
    {
      "cell_type": "code",
      "metadata": {
        "id": "qwB1vXXPBVJV"
      },
      "source": [
        "#Defining the number of clusters\n",
        "number_of_clusters = 3"
      ],
      "execution_count": 25,
      "outputs": []
    },
    {
      "cell_type": "code",
      "metadata": {
        "id": "Y1EnTaeWBcNZ"
      },
      "source": [
        "# Initializing 3 random cluster centroids\n",
        "def generate_random_clusters(n_features, k,d):\n",
        "    c_position = []\n",
        "    for i in range(n_features):\n",
        "        c_position.append(np.random.randint(0.8 * np.min(x[:, i]), 0.8 * np.max(x[:, i]), size=k)) \n",
        "                                           # 0.8 to stay in the range (it really doesn't matter as this\n",
        "                                           #                           is random initialization)\n",
        "    return c_position"
      ],
      "execution_count": 112,
      "outputs": []
    },
    {
      "cell_type": "code",
      "metadata": {
        "id": "cIJHKWPxBqDW"
      },
      "source": [
        "n_features = 2\n",
        "c_positions = generate_random_clusters(n_features, number_of_clusters,x) \n",
        "c_positions = np.array(c_positions).T"
      ],
      "execution_count": 114,
      "outputs": []
    },
    {
      "cell_type": "code",
      "metadata": {
        "colab": {
          "base_uri": "https://localhost:8080/"
        },
        "id": "FtlZudBKB17I",
        "outputId": "6dc029b3-a3f0-44e9-c4a9-b68cd320f8ae"
      },
      "source": [
        "# 3 cluster centroid positions\n",
        "print(c_positions)"
      ],
      "execution_count": 115,
      "outputs": [
        {
          "output_type": "stream",
          "name": "stdout",
          "text": [
            "[[16 14]\n",
            " [21 15]\n",
            " [13 16]]\n"
          ]
        }
      ]
    },
    {
      "cell_type": "code",
      "metadata": {
        "colab": {
          "base_uri": "https://localhost:8080/",
          "height": 265
        },
        "id": "GxKaXsZTB4L2",
        "outputId": "c29e92ed-0767-45ea-9d20-993cd6d946fc"
      },
      "source": [
        "# plotting the clusters along with 3 intialiazed centriods\n",
        "plt.scatter(x = x[:, 0], y = x[:, 1])\n",
        "plt.scatter(c_positions[:, 0], c_positions[:, 1], marker='*', s=300, c='orange')\n",
        "plt.show()"
      ],
      "execution_count": 116,
      "outputs": [
        {
          "output_type": "display_data",
          "data": {
            "image/png": "[encoded data removed]",
            "text/plain": [
              "<Figure size 432x288 with 1 Axes>"
            ]
          },
          "metadata": {
            "needs_background": "light"
          }
        }
      ]
    },
    {
      "cell_type": "code",
      "metadata": {
        "id": "_aqlamDyCLdh"
      },
      "source": [
        "# Error function is defined as distance between new centroids and old centroids\n",
        "def error(c, c_old):\n",
        "    return dist(c, c_old)"
      ],
      "execution_count": 117,
      "outputs": []
    },
    {
      "cell_type": "code",
      "metadata": {
        "id": "9D_NhXWkCTO3"
      },
      "source": [
        " # so now we are ready to start K-means we need to loop until error is zero then we can break\n",
        "def kmeans(x, c_positions, number_of_clusters):\n",
        "    clusters = np.zeros(len(x))\n",
        "    old_clusters = np.zeros(c_positions.shape)\n",
        "    error = 1\n",
        "    while error != 0:\n",
        "        for i in range(len(x)):\n",
        "            distances = [dist(x[i], c) for c in c_positions]\n",
        "            cluster = np.argmin(distances)\n",
        "            clusters[i] = cluster        \n",
        "        \n",
        "        old_clusters = deepcopy(c_positions)\n",
        "    \n",
        "        for j in range(0, number_of_clusters):\n",
        "            points = [x[n] for n in range(len(x)) if clusters[n] == j]\n",
        "            c_positions[j] = np.mean(points, axis=0)        \n",
        "        \n",
        "        error = dist(c_positions, old_clusters)\n",
        "        \n",
        "    return c_positions, clusters"
      ],
      "execution_count": 31,
      "outputs": []
    },
    {
      "cell_type": "code",
      "metadata": {
        "id": "1fjFHKAkCknM"
      },
      "source": [
        "from copy import deepcopy"
      ],
      "execution_count": 118,
      "outputs": []
    },
    {
      "cell_type": "code",
      "metadata": {
        "id": "3Rn9UxbXCbZf"
      },
      "source": [
        "new_clusters, p = kmeans(x, c_positions, number_of_clusters)"
      ],
      "execution_count": 119,
      "outputs": []
    },
    {
      "cell_type": "code",
      "metadata": {
        "colab": {
          "base_uri": "https://localhost:8080/"
        },
        "id": "7oAwxlpGCdrd",
        "outputId": "756c59d0-bedf-4e2e-82c1-8c4f6daa51d9"
      },
      "source": [
        "# final cluster centroid\n",
        "print(new_clusters)"
      ],
      "execution_count": 120,
      "outputs": [
        {
          "output_type": "stream",
          "name": "stdout",
          "text": [
            "[[ 5  6]\n",
            " [25  9]\n",
            " [14 20]]\n"
          ]
        }
      ]
    },
    {
      "cell_type": "code",
      "metadata": {
        "colab": {
          "base_uri": "https://localhost:8080/",
          "height": 265
        },
        "id": "17vqPuSuCofC",
        "outputId": "4a241d79-ba06-4212-e534-36c0b7ca25b4"
      },
      "source": [
        "plt.scatter(x = x[:, 0],y =  x[:, 1])\n",
        "plt.scatter(new_clusters[:, 0], new_clusters[:, 1], marker='*', s=300, c='r')\n",
        "plt.show()"
      ],
      "execution_count": 121,
      "outputs": [
        {
          "output_type": "display_data",
          "data": {
            "image/png": "[encoded data removed]",
            "text/plain": [
              "<Figure size 432x288 with 1 Axes>"
            ]
          },
          "metadata": {
            "needs_background": "light"
          }
        }
      ]
    },
    {
      "cell_type": "code",
      "metadata": {
        "id": "giHSk80ZCtoi"
      },
      "source": [
        "def plot_in_col(x, number_of_clusters, p, new_clusters):\n",
        "    for i in range(number_of_clusters):\n",
        "        col_points = np.array([x[n] for n in range(len(x)) if p[n] == i])\n",
        "        plt.scatter(col_points[:, 0], col_points[:, 1], s=10)\n",
        "    plt.scatter(new_clusters[:, 0], new_clusters[:, 1], marker='*', s=300, c='r')\n",
        "    plt.show()"
      ],
      "execution_count": 122,
      "outputs": []
    },
    {
      "cell_type": "code",
      "metadata": {
        "colab": {
          "base_uri": "https://localhost:8080/",
          "height": 265
        },
        "id": "rDarToUXC2cf",
        "outputId": "28537749-a121-4451-f503-615cfad7c0a9"
      },
      "source": [
        "plot_in_col(x, number_of_clusters, p, new_clusters)"
      ],
      "execution_count": 123,
      "outputs": [
        {
          "output_type": "display_data",
          "data": {
            "image/png": "[encoded data removed]",
            "text/plain": [
              "<Figure size 432x288 with 1 Axes>"
            ]
          },
          "metadata": {
            "needs_background": "light"
          }
        }
      ]
    },
    {
      "cell_type": "code",
      "metadata": {
        "id": "VCvpVHzbERhT"
      },
      "source": [
        " c1 = np.ones((50, 1))\n",
        " c2 = 2*np.ones((50, 1))\n",
        " c3 = 3*np.ones((50, 1))"
      ],
      "execution_count": 124,
      "outputs": []
    },
    {
      "cell_type": "code",
      "metadata": {
        "id": "ecyyOLlYGNPi"
      },
      "source": [
        "clus = np.concatenate((c1,c2,c3),axis=0)"
      ],
      "execution_count": 125,
      "outputs": []
    },
    {
      "cell_type": "code",
      "metadata": {
        "colab": {
          "base_uri": "https://localhost:8080/"
        },
        "id": "pg8zHdHqGOCr",
        "outputId": "c1261032-4660-468d-9cbd-8f613956af78"
      },
      "source": [
        "clus.shape"
      ],
      "execution_count": 126,
      "outputs": [
        {
          "output_type": "execute_result",
          "data": {
            "text/plain": [
              "(150, 1)"
            ]
          },
          "metadata": {},
          "execution_count": 126
        }
      ]
    },
    {
      "cell_type": "code",
      "metadata": {
        "id": "JIqDsW5WHOTF"
      },
      "source": [
        "b= np.concatenate((x,clus),axis=1)"
      ],
      "execution_count": 127,
      "outputs": []
    },
    {
      "cell_type": "code",
      "metadata": {
        "colab": {
          "base_uri": "https://localhost:8080/"
        },
        "id": "EZQ7g-4KH4en",
        "outputId": "c63ad060-e7c4-473b-8777-bf889858c63b"
      },
      "source": [
        "b.shape"
      ],
      "execution_count": 128,
      "outputs": [
        {
          "output_type": "execute_result",
          "data": {
            "text/plain": [
              "(150, 3)"
            ]
          },
          "metadata": {},
          "execution_count": 128
        }
      ]
    },
    {
      "cell_type": "code",
      "metadata": {
        "id": "JrjhGwysH6LF"
      },
      "source": [
        " df = pd.DataFrame(b,pd.RangeIndex(start = 1,stop = 151))"
      ],
      "execution_count": 129,
      "outputs": []
    },
    {
      "cell_type": "code",
      "metadata": {
        "colab": {
          "base_uri": "https://localhost:8080/",
          "height": 363
        },
        "id": "3zO7fq28IEqR",
        "outputId": "c050f158-893c-4390-fdf5-f341baf6b943"
      },
      "source": [
        "df.tail(10)"
      ],
      "execution_count": 130,
      "outputs": [
        {
          "output_type": "execute_result",
          "data": {
            "text/html": [
              "<div>\n",
              "<style scoped>\n",
              "    .dataframe tbody tr th:only-of-type {\n",
              "        vertical-align: middle;\n",
              "    }\n",
              "\n",
              "    .dataframe tbody tr th {\n",
              "        vertical-align: top;\n",
              "    }\n",
              "\n",
              "    .dataframe thead th {\n",
              "        text-align: right;\n",
              "    }\n",
              "</style>\n",
              "<table border=\"1\" class=\"dataframe\">\n",
              "  <thead>\n",
              "    <tr style=\"text-align: right;\">\n",
              "      <th></th>\n",
              "      <th>0</th>\n",
              "      <th>1</th>\n",
              "      <th>2</th>\n",
              "    </tr>\n",
              "  </thead>\n",
              "  <tbody>\n",
              "    <tr>\n",
              "      <th>141</th>\n",
              "      <td>16.115072</td>\n",
              "      <td>22.210425</td>\n",
              "      <td>3.0</td>\n",
              "    </tr>\n",
              "    <tr>\n",
              "      <th>142</th>\n",
              "      <td>15.739314</td>\n",
              "      <td>21.300544</td>\n",
              "      <td>3.0</td>\n",
              "    </tr>\n",
              "    <tr>\n",
              "      <th>143</th>\n",
              "      <td>13.133622</td>\n",
              "      <td>20.752577</td>\n",
              "      <td>3.0</td>\n",
              "    </tr>\n",
              "    <tr>\n",
              "      <th>144</th>\n",
              "      <td>13.069465</td>\n",
              "      <td>20.993704</td>\n",
              "      <td>3.0</td>\n",
              "    </tr>\n",
              "    <tr>\n",
              "      <th>145</th>\n",
              "      <td>14.478454</td>\n",
              "      <td>20.108967</td>\n",
              "      <td>3.0</td>\n",
              "    </tr>\n",
              "    <tr>\n",
              "      <th>146</th>\n",
              "      <td>15.185061</td>\n",
              "      <td>18.803939</td>\n",
              "      <td>3.0</td>\n",
              "    </tr>\n",
              "    <tr>\n",
              "      <th>147</th>\n",
              "      <td>15.556285</td>\n",
              "      <td>19.495379</td>\n",
              "      <td>3.0</td>\n",
              "    </tr>\n",
              "    <tr>\n",
              "      <th>148</th>\n",
              "      <td>19.660444</td>\n",
              "      <td>20.138089</td>\n",
              "      <td>3.0</td>\n",
              "    </tr>\n",
              "    <tr>\n",
              "      <th>149</th>\n",
              "      <td>15.205382</td>\n",
              "      <td>20.625341</td>\n",
              "      <td>3.0</td>\n",
              "    </tr>\n",
              "    <tr>\n",
              "      <th>150</th>\n",
              "      <td>15.059695</td>\n",
              "      <td>19.142221</td>\n",
              "      <td>3.0</td>\n",
              "    </tr>\n",
              "  </tbody>\n",
              "</table>\n",
              "</div>"
            ],
            "text/plain": [
              "             0          1    2\n",
              "141  16.115072  22.210425  3.0\n",
              "142  15.739314  21.300544  3.0\n",
              "143  13.133622  20.752577  3.0\n",
              "144  13.069465  20.993704  3.0\n",
              "145  14.478454  20.108967  3.0\n",
              "146  15.185061  18.803939  3.0\n",
              "147  15.556285  19.495379  3.0\n",
              "148  19.660444  20.138089  3.0\n",
              "149  15.205382  20.625341  3.0\n",
              "150  15.059695  19.142221  3.0"
            ]
          },
          "metadata": {},
          "execution_count": 130
        }
      ]
    },
    {
      "cell_type": "code",
      "metadata": {
        "id": "kqJREdrEIGK1"
      },
      "source": [
        "df.rename(columns={2:'cluster'},inplace=True)"
      ],
      "execution_count": 131,
      "outputs": []
    },
    {
      "cell_type": "code",
      "metadata": {
        "colab": {
          "base_uri": "https://localhost:8080/",
          "height": 363
        },
        "id": "KH0JVSlZIsXW",
        "outputId": "a0638ee5-cd0d-416a-9f3b-b1d8b6e426db"
      },
      "source": [
        "df.head(10)"
      ],
      "execution_count": 196,
      "outputs": [
        {
          "output_type": "execute_result",
          "data": {
            "text/html": [
              "<div>\n",
              "<style scoped>\n",
              "    .dataframe tbody tr th:only-of-type {\n",
              "        vertical-align: middle;\n",
              "    }\n",
              "\n",
              "    .dataframe tbody tr th {\n",
              "        vertical-align: top;\n",
              "    }\n",
              "\n",
              "    .dataframe thead th {\n",
              "        text-align: right;\n",
              "    }\n",
              "</style>\n",
              "<table border=\"1\" class=\"dataframe\">\n",
              "  <thead>\n",
              "    <tr style=\"text-align: right;\">\n",
              "      <th></th>\n",
              "      <th>0</th>\n",
              "      <th>1</th>\n",
              "      <th>cluster</th>\n",
              "    </tr>\n",
              "  </thead>\n",
              "  <tbody>\n",
              "    <tr>\n",
              "      <th>1</th>\n",
              "      <td>5.507251</td>\n",
              "      <td>5.884597</td>\n",
              "      <td>1.0</td>\n",
              "    </tr>\n",
              "    <tr>\n",
              "      <th>2</th>\n",
              "      <td>6.028444</td>\n",
              "      <td>7.301002</td>\n",
              "      <td>1.0</td>\n",
              "    </tr>\n",
              "    <tr>\n",
              "      <th>3</th>\n",
              "      <td>4.085758</td>\n",
              "      <td>7.566473</td>\n",
              "      <td>1.0</td>\n",
              "    </tr>\n",
              "    <tr>\n",
              "      <th>4</th>\n",
              "      <td>2.513441</td>\n",
              "      <td>4.681683</td>\n",
              "      <td>1.0</td>\n",
              "    </tr>\n",
              "    <tr>\n",
              "      <th>5</th>\n",
              "      <td>6.373015</td>\n",
              "      <td>5.477072</td>\n",
              "      <td>1.0</td>\n",
              "    </tr>\n",
              "    <tr>\n",
              "      <th>6</th>\n",
              "      <td>5.372191</td>\n",
              "      <td>3.713071</td>\n",
              "      <td>1.0</td>\n",
              "    </tr>\n",
              "    <tr>\n",
              "      <th>7</th>\n",
              "      <td>6.401602</td>\n",
              "      <td>7.765510</td>\n",
              "      <td>1.0</td>\n",
              "    </tr>\n",
              "    <tr>\n",
              "      <th>8</th>\n",
              "      <td>4.360325</td>\n",
              "      <td>5.844100</td>\n",
              "      <td>1.0</td>\n",
              "    </tr>\n",
              "    <tr>\n",
              "      <th>9</th>\n",
              "      <td>6.206196</td>\n",
              "      <td>6.472956</td>\n",
              "      <td>1.0</td>\n",
              "    </tr>\n",
              "    <tr>\n",
              "      <th>10</th>\n",
              "      <td>4.834096</td>\n",
              "      <td>7.796116</td>\n",
              "      <td>1.0</td>\n",
              "    </tr>\n",
              "  </tbody>\n",
              "</table>\n",
              "</div>"
            ],
            "text/plain": [
              "           0         1  cluster\n",
              "1   5.507251  5.884597      1.0\n",
              "2   6.028444  7.301002      1.0\n",
              "3   4.085758  7.566473      1.0\n",
              "4   2.513441  4.681683      1.0\n",
              "5   6.373015  5.477072      1.0\n",
              "6   5.372191  3.713071      1.0\n",
              "7   6.401602  7.765510      1.0\n",
              "8   4.360325  5.844100      1.0\n",
              "9   6.206196  6.472956      1.0\n",
              "10  4.834096  7.796116      1.0"
            ]
          },
          "metadata": {},
          "execution_count": 196
        }
      ]
    },
    {
      "cell_type": "code",
      "metadata": {
        "id": "xcXxH8pEIwgk"
      },
      "source": [
        "w = df.loc[5:10,:]"
      ],
      "execution_count": 197,
      "outputs": []
    },
    {
      "cell_type": "code",
      "metadata": {
        "id": "_iQomyVdJsOY"
      },
      "source": [
        "l = df.loc[65:70,:]"
      ],
      "execution_count": 198,
      "outputs": []
    },
    {
      "cell_type": "code",
      "metadata": {
        "id": "mXgonEmHLbe6"
      },
      "source": [
        "e = df.loc[105:110,:]"
      ],
      "execution_count": 199,
      "outputs": []
    },
    {
      "cell_type": "code",
      "metadata": {
        "id": "jqX8AblfLmS7"
      },
      "source": [
        "test_data = pd.concat([w,l,e])"
      ],
      "execution_count": 200,
      "outputs": []
    },
    {
      "cell_type": "code",
      "metadata": {
        "colab": {
          "base_uri": "https://localhost:8080/",
          "height": 614
        },
        "id": "ACuMLcq3L7nQ",
        "outputId": "7fb27266-05e4-472e-f868-2e7df1d24e7e"
      },
      "source": [
        "# Random Test data\n",
        "test_data"
      ],
      "execution_count": 201,
      "outputs": [
        {
          "output_type": "execute_result",
          "data": {
            "text/html": [
              "<div>\n",
              "<style scoped>\n",
              "    .dataframe tbody tr th:only-of-type {\n",
              "        vertical-align: middle;\n",
              "    }\n",
              "\n",
              "    .dataframe tbody tr th {\n",
              "        vertical-align: top;\n",
              "    }\n",
              "\n",
              "    .dataframe thead th {\n",
              "        text-align: right;\n",
              "    }\n",
              "</style>\n",
              "<table border=\"1\" class=\"dataframe\">\n",
              "  <thead>\n",
              "    <tr style=\"text-align: right;\">\n",
              "      <th></th>\n",
              "      <th>0</th>\n",
              "      <th>1</th>\n",
              "      <th>cluster</th>\n",
              "    </tr>\n",
              "  </thead>\n",
              "  <tbody>\n",
              "    <tr>\n",
              "      <th>5</th>\n",
              "      <td>6.373015</td>\n",
              "      <td>5.477072</td>\n",
              "      <td>1.0</td>\n",
              "    </tr>\n",
              "    <tr>\n",
              "      <th>6</th>\n",
              "      <td>5.372191</td>\n",
              "      <td>3.713071</td>\n",
              "      <td>1.0</td>\n",
              "    </tr>\n",
              "    <tr>\n",
              "      <th>7</th>\n",
              "      <td>6.401602</td>\n",
              "      <td>7.765510</td>\n",
              "      <td>1.0</td>\n",
              "    </tr>\n",
              "    <tr>\n",
              "      <th>8</th>\n",
              "      <td>4.360325</td>\n",
              "      <td>5.844100</td>\n",
              "      <td>1.0</td>\n",
              "    </tr>\n",
              "    <tr>\n",
              "      <th>9</th>\n",
              "      <td>6.206196</td>\n",
              "      <td>6.472956</td>\n",
              "      <td>1.0</td>\n",
              "    </tr>\n",
              "    <tr>\n",
              "      <th>10</th>\n",
              "      <td>4.834096</td>\n",
              "      <td>7.796116</td>\n",
              "      <td>1.0</td>\n",
              "    </tr>\n",
              "    <tr>\n",
              "      <th>65</th>\n",
              "      <td>23.182180</td>\n",
              "      <td>11.026625</td>\n",
              "      <td>2.0</td>\n",
              "    </tr>\n",
              "    <tr>\n",
              "      <th>66</th>\n",
              "      <td>24.500233</td>\n",
              "      <td>9.333060</td>\n",
              "      <td>2.0</td>\n",
              "    </tr>\n",
              "    <tr>\n",
              "      <th>67</th>\n",
              "      <td>24.151248</td>\n",
              "      <td>10.472456</td>\n",
              "      <td>2.0</td>\n",
              "    </tr>\n",
              "    <tr>\n",
              "      <th>68</th>\n",
              "      <td>24.884586</td>\n",
              "      <td>9.713572</td>\n",
              "      <td>2.0</td>\n",
              "    </tr>\n",
              "    <tr>\n",
              "      <th>69</th>\n",
              "      <td>25.273938</td>\n",
              "      <td>11.228447</td>\n",
              "      <td>2.0</td>\n",
              "    </tr>\n",
              "    <tr>\n",
              "      <th>70</th>\n",
              "      <td>21.826543</td>\n",
              "      <td>9.659798</td>\n",
              "      <td>2.0</td>\n",
              "    </tr>\n",
              "    <tr>\n",
              "      <th>105</th>\n",
              "      <td>12.723391</td>\n",
              "      <td>20.245609</td>\n",
              "      <td>3.0</td>\n",
              "    </tr>\n",
              "    <tr>\n",
              "      <th>106</th>\n",
              "      <td>13.390766</td>\n",
              "      <td>20.873332</td>\n",
              "      <td>3.0</td>\n",
              "    </tr>\n",
              "    <tr>\n",
              "      <th>107</th>\n",
              "      <td>16.149727</td>\n",
              "      <td>21.024845</td>\n",
              "      <td>3.0</td>\n",
              "    </tr>\n",
              "    <tr>\n",
              "      <th>108</th>\n",
              "      <td>14.926965</td>\n",
              "      <td>18.862601</td>\n",
              "      <td>3.0</td>\n",
              "    </tr>\n",
              "    <tr>\n",
              "      <th>109</th>\n",
              "      <td>16.845945</td>\n",
              "      <td>22.255306</td>\n",
              "      <td>3.0</td>\n",
              "    </tr>\n",
              "    <tr>\n",
              "      <th>110</th>\n",
              "      <td>14.506765</td>\n",
              "      <td>19.751404</td>\n",
              "      <td>3.0</td>\n",
              "    </tr>\n",
              "  </tbody>\n",
              "</table>\n",
              "</div>"
            ],
            "text/plain": [
              "             0          1  cluster\n",
              "5     6.373015   5.477072      1.0\n",
              "6     5.372191   3.713071      1.0\n",
              "7     6.401602   7.765510      1.0\n",
              "8     4.360325   5.844100      1.0\n",
              "9     6.206196   6.472956      1.0\n",
              "10    4.834096   7.796116      1.0\n",
              "65   23.182180  11.026625      2.0\n",
              "66   24.500233   9.333060      2.0\n",
              "67   24.151248  10.472456      2.0\n",
              "68   24.884586   9.713572      2.0\n",
              "69   25.273938  11.228447      2.0\n",
              "70   21.826543   9.659798      2.0\n",
              "105  12.723391  20.245609      3.0\n",
              "106  13.390766  20.873332      3.0\n",
              "107  16.149727  21.024845      3.0\n",
              "108  14.926965  18.862601      3.0\n",
              "109  16.845945  22.255306      3.0\n",
              "110  14.506765  19.751404      3.0"
            ]
          },
          "metadata": {},
          "execution_count": 201
        }
      ]
    },
    {
      "cell_type": "code",
      "metadata": {
        "id": "Nfw_vJ7suA7y"
      },
      "source": [
        "test = test_data.loc[:,[0,1]]"
      ],
      "execution_count": 202,
      "outputs": []
    },
    {
      "cell_type": "code",
      "metadata": {
        "id": "keanEgBMuDjB"
      },
      "source": [
        "tests = pd.DataFrame.to_numpy(test)"
      ],
      "execution_count": 203,
      "outputs": []
    },
    {
      "cell_type": "code",
      "metadata": {
        "colab": {
          "base_uri": "https://localhost:8080/",
          "height": 283
        },
        "id": "btBkx7V4MhjC",
        "outputId": "90d7057f-d156-4598-be06-f256654b1c3c"
      },
      "source": [
        "plt.scatter(x = tests[:,0],y=tests[:,1])"
      ],
      "execution_count": 206,
      "outputs": [
        {
          "output_type": "execute_result",
          "data": {
            "text/plain": [
              "<matplotlib.collections.PathCollection at 0x7f2862cf5d90>"
            ]
          },
          "metadata": {},
          "execution_count": 206
        },
        {
          "output_type": "display_data",
          "data": {
            "image/png": "[encoded data removed]",
            "text/plain": [
              "<Figure size 432x288 with 1 Axes>"
            ]
          },
          "metadata": {
            "needs_background": "light"
          }
        }
      ]
    },
    {
      "cell_type": "code",
      "metadata": {
        "id": "h1tbppnBUl01"
      },
      "source": [
        "n_features = 2\n",
        "c_positionss = generate_random_clusters(n_features, number_of_clusters,tests) \n",
        "c_positionss = np.array(c_positionss).T"
      ],
      "execution_count": 207,
      "outputs": []
    },
    {
      "cell_type": "code",
      "metadata": {
        "id": "JQpIds2RMtnq"
      },
      "source": [
        "new_clusterss, p1 = kmeans(tests, c_positionss, number_of_clusters)"
      ],
      "execution_count": 208,
      "outputs": []
    },
    {
      "cell_type": "code",
      "metadata": {
        "colab": {
          "base_uri": "https://localhost:8080/",
          "height": 265
        },
        "id": "CMo57-OPNMdG",
        "outputId": "682cdfda-3dae-4c7a-85a5-7e16d92c529a"
      },
      "source": [
        "plt.scatter(x = tests[:,0],y = tests[:,1])\n",
        "plt.scatter(new_clusterss[:, 0], new_clusterss[:, 1], marker='*', s=300, c='r')\n",
        "plt.show()"
      ],
      "execution_count": 209,
      "outputs": [
        {
          "output_type": "display_data",
          "data": {
            "image/png": "[encoded data removed]",
            "text/plain": [
              "<Figure size 432x288 with 1 Axes>"
            ]
          },
          "metadata": {
            "needs_background": "light"
          }
        }
      ]
    },
    {
      "cell_type": "code",
      "metadata": {
        "colab": {
          "base_uri": "https://localhost:8080/",
          "height": 614
        },
        "id": "k8QLS3WQV6mj",
        "outputId": "6146b6b4-b5f9-4562-bce5-fa2d2a0eae53"
      },
      "source": [
        "test_data"
      ],
      "execution_count": 211,
      "outputs": [
        {
          "output_type": "execute_result",
          "data": {
            "text/html": [
              "<div>\n",
              "<style scoped>\n",
              "    .dataframe tbody tr th:only-of-type {\n",
              "        vertical-align: middle;\n",
              "    }\n",
              "\n",
              "    .dataframe tbody tr th {\n",
              "        vertical-align: top;\n",
              "    }\n",
              "\n",
              "    .dataframe thead th {\n",
              "        text-align: right;\n",
              "    }\n",
              "</style>\n",
              "<table border=\"1\" class=\"dataframe\">\n",
              "  <thead>\n",
              "    <tr style=\"text-align: right;\">\n",
              "      <th></th>\n",
              "      <th>0</th>\n",
              "      <th>1</th>\n",
              "      <th>cluster</th>\n",
              "    </tr>\n",
              "  </thead>\n",
              "  <tbody>\n",
              "    <tr>\n",
              "      <th>5</th>\n",
              "      <td>6.373015</td>\n",
              "      <td>5.477072</td>\n",
              "      <td>1.0</td>\n",
              "    </tr>\n",
              "    <tr>\n",
              "      <th>6</th>\n",
              "      <td>5.372191</td>\n",
              "      <td>3.713071</td>\n",
              "      <td>1.0</td>\n",
              "    </tr>\n",
              "    <tr>\n",
              "      <th>7</th>\n",
              "      <td>6.401602</td>\n",
              "      <td>7.765510</td>\n",
              "      <td>1.0</td>\n",
              "    </tr>\n",
              "    <tr>\n",
              "      <th>8</th>\n",
              "      <td>4.360325</td>\n",
              "      <td>5.844100</td>\n",
              "      <td>1.0</td>\n",
              "    </tr>\n",
              "    <tr>\n",
              "      <th>9</th>\n",
              "      <td>6.206196</td>\n",
              "      <td>6.472956</td>\n",
              "      <td>1.0</td>\n",
              "    </tr>\n",
              "    <tr>\n",
              "      <th>10</th>\n",
              "      <td>4.834096</td>\n",
              "      <td>7.796116</td>\n",
              "      <td>1.0</td>\n",
              "    </tr>\n",
              "    <tr>\n",
              "      <th>65</th>\n",
              "      <td>23.182180</td>\n",
              "      <td>11.026625</td>\n",
              "      <td>2.0</td>\n",
              "    </tr>\n",
              "    <tr>\n",
              "      <th>66</th>\n",
              "      <td>24.500233</td>\n",
              "      <td>9.333060</td>\n",
              "      <td>2.0</td>\n",
              "    </tr>\n",
              "    <tr>\n",
              "      <th>67</th>\n",
              "      <td>24.151248</td>\n",
              "      <td>10.472456</td>\n",
              "      <td>2.0</td>\n",
              "    </tr>\n",
              "    <tr>\n",
              "      <th>68</th>\n",
              "      <td>24.884586</td>\n",
              "      <td>9.713572</td>\n",
              "      <td>2.0</td>\n",
              "    </tr>\n",
              "    <tr>\n",
              "      <th>69</th>\n",
              "      <td>25.273938</td>\n",
              "      <td>11.228447</td>\n",
              "      <td>2.0</td>\n",
              "    </tr>\n",
              "    <tr>\n",
              "      <th>70</th>\n",
              "      <td>21.826543</td>\n",
              "      <td>9.659798</td>\n",
              "      <td>2.0</td>\n",
              "    </tr>\n",
              "    <tr>\n",
              "      <th>105</th>\n",
              "      <td>12.723391</td>\n",
              "      <td>20.245609</td>\n",
              "      <td>3.0</td>\n",
              "    </tr>\n",
              "    <tr>\n",
              "      <th>106</th>\n",
              "      <td>13.390766</td>\n",
              "      <td>20.873332</td>\n",
              "      <td>3.0</td>\n",
              "    </tr>\n",
              "    <tr>\n",
              "      <th>107</th>\n",
              "      <td>16.149727</td>\n",
              "      <td>21.024845</td>\n",
              "      <td>3.0</td>\n",
              "    </tr>\n",
              "    <tr>\n",
              "      <th>108</th>\n",
              "      <td>14.926965</td>\n",
              "      <td>18.862601</td>\n",
              "      <td>3.0</td>\n",
              "    </tr>\n",
              "    <tr>\n",
              "      <th>109</th>\n",
              "      <td>16.845945</td>\n",
              "      <td>22.255306</td>\n",
              "      <td>3.0</td>\n",
              "    </tr>\n",
              "    <tr>\n",
              "      <th>110</th>\n",
              "      <td>14.506765</td>\n",
              "      <td>19.751404</td>\n",
              "      <td>3.0</td>\n",
              "    </tr>\n",
              "  </tbody>\n",
              "</table>\n",
              "</div>"
            ],
            "text/plain": [
              "             0          1  cluster\n",
              "5     6.373015   5.477072      1.0\n",
              "6     5.372191   3.713071      1.0\n",
              "7     6.401602   7.765510      1.0\n",
              "8     4.360325   5.844100      1.0\n",
              "9     6.206196   6.472956      1.0\n",
              "10    4.834096   7.796116      1.0\n",
              "65   23.182180  11.026625      2.0\n",
              "66   24.500233   9.333060      2.0\n",
              "67   24.151248  10.472456      2.0\n",
              "68   24.884586   9.713572      2.0\n",
              "69   25.273938  11.228447      2.0\n",
              "70   21.826543   9.659798      2.0\n",
              "105  12.723391  20.245609      3.0\n",
              "106  13.390766  20.873332      3.0\n",
              "107  16.149727  21.024845      3.0\n",
              "108  14.926965  18.862601      3.0\n",
              "109  16.845945  22.255306      3.0\n",
              "110  14.506765  19.751404      3.0"
            ]
          },
          "metadata": {},
          "execution_count": 211
        }
      ]
    },
    {
      "cell_type": "code",
      "metadata": {
        "id": "sBG3uZGua4Yt"
      },
      "source": [
        ""
      ],
      "execution_count": null,
      "outputs": []
    }
  ]
}
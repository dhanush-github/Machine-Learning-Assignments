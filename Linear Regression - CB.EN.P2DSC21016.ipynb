{
 "cells": [
  {
   "cell_type": "markdown",
   "metadata": {},
   "source": []
  },
  {
   "cell_type": "markdown",
   "metadata": {
    "id": "ucuMU6vn8Gej"
   },
   "source": [
    "# 1.A  \n",
    "\n",
    "## DERIVATION FOR \"ALPHA\".\n",
    "  \n",
    "  \n",
    "Consider a matrix  A  with  x1  and  x2∈Rm  as columns\n",
    "\n",
    "x1  and  x2  span column space of  A \n",
    "\n",
    "Let  y∈Rm  be a vector which is not in column space of  Am×2 \n",
    "\n",
    "That is  y  is not in the plane spanned by  x1  and  x2 \n",
    "\n",
    "Let  y^  be the projected vector of  y  in the column space of  A \n",
    "\n",
    "Now  y^  is expressible as a linear combination of columns of  A"
   ]
  },
  {
   "cell_type": "markdown",
   "metadata": {
    "id": "QKNokCtS8JQi"
   },
   "source": [
    "$$\n",
    "\\hat{y}=A\\left[\\begin{array}{l}\n",
    "\\alpha_{1} \\\\\n",
    "\\alpha_{2}\n",
    "\\end{array}\\right]=A \\alpha=\\left[\\begin{array}{cc}\n",
    "| & | \\\\\n",
    "x_{1} & x_{2} \\\\\n",
    "| & |\n",
    "\\end{array}\\right]\\left[\\begin{array}{l}\n",
    "\\alpha_{1} \\\\\n",
    "\\alpha_{2}\n",
    "\\end{array}\\right]=\\alpha_{1} x_{1}+\\alpha_{2} x_{2}\n",
    "$$\n",
    "Now $A\n",
    "\\alpha+e=y$\n",
    "or $\\quad \\hat{y}+e=y$\n",
    "\n",
    "$$\n",
    "\\therefore A^{T} e=\\left[\\begin{array}{l}\n",
    "x_{1}^{T} e \\\\\n",
    "x_{2}^{T} e\n",
    "\\end{array}\\right]=\\left[\\begin{array}{l}\n",
    "0 \\\\\n",
    "0\n",
    "\\end{array}\\right]=0 \\text { vector }\n",
    "$$\n",
    "\n",
    "$$\n",
    "\\text { Now } A \\alpha+e=y\n",
    "$$$A^{T} A \\alpha+A^{T} e=A^{T} y$\n",
    "\n",
    "\n",
    "$\\alpha=\\left(A^{T} A\\right)^{-1} A^{T} y$"
   ]
  },
  {
   "cell_type": "markdown",
   "metadata": {},
   "source": []
  },
  {
   "cell_type": "markdown",
   "metadata": {},
   "source": [
    "# 1.B\n",
    "\n",
    "### PYTHON CODE TO COMPUTE THE PROJECTION MATRIX."
   ]
  },
  {
   "cell_type": "code",
   "execution_count": 1,
   "metadata": {},
   "outputs": [],
   "source": [
    "import numpy as np\n",
    "import matplotlib.pyplot as plt\n",
    "%matplotlib inline"
   ]
  },
  {
   "cell_type": "code",
   "execution_count": 13,
   "metadata": {},
   "outputs": [],
   "source": [
    "m = 5\n",
    "c = 10\n",
    "x = np.arange(-5,6)\n",
    "x.transpose\n",
    "x = x.reshape(11,1)"
   ]
  },
  {
   "cell_type": "code",
   "execution_count": 37,
   "metadata": {},
   "outputs": [
    {
     "name": "stdout",
     "output_type": "stream",
     "text": [
      "(11, 1)\n",
      "2\n",
      "[[-5]\n",
      " [-4]\n",
      " [-3]\n",
      " [-2]\n",
      " [-1]\n",
      " [ 0]\n",
      " [ 1]\n",
      " [ 2]\n",
      " [ 3]\n",
      " [ 4]\n",
      " [ 5]]\n"
     ]
    }
   ],
   "source": [
    "print(x.shape)\n",
    "print(x.ndim)\n",
    "print(x)"
   ]
  },
  {
   "cell_type": "code",
   "execution_count": 15,
   "metadata": {},
   "outputs": [],
   "source": [
    "# Line Equation\n",
    "y = m*x + c\n",
    "y = y.reshape(11,1)"
   ]
  },
  {
   "cell_type": "code",
   "execution_count": 38,
   "metadata": {},
   "outputs": [
    {
     "name": "stdout",
     "output_type": "stream",
     "text": [
      "(11, 1)\n",
      "2\n",
      "[[-15]\n",
      " [-10]\n",
      " [ -5]\n",
      " [  0]\n",
      " [  5]\n",
      " [ 10]\n",
      " [ 15]\n",
      " [ 20]\n",
      " [ 25]\n",
      " [ 30]\n",
      " [ 35]]\n"
     ]
    }
   ],
   "source": [
    "print(y.shape)\n",
    "print(y.ndim)\n",
    "print(y)"
   ]
  },
  {
   "cell_type": "code",
   "execution_count": 17,
   "metadata": {},
   "outputs": [
    {
     "name": "stdout",
     "output_type": "stream",
     "text": [
      "11\n"
     ]
    }
   ],
   "source": [
    "n = len(x)\n",
    "print(n)"
   ]
  },
  {
   "cell_type": "code",
   "execution_count": 30,
   "metadata": {},
   "outputs": [
    {
     "name": "stdout",
     "output_type": "stream",
     "text": [
      "(11, 1)\n",
      "[[ 13.5342492 ]\n",
      " [  3.14066354]\n",
      " [  4.53984723]\n",
      " [  2.51912877]\n",
      " [  3.25558974]\n",
      " [ -1.59659022]\n",
      " [ -4.24038492]\n",
      " [  3.02982675]\n",
      " [-10.09084122]\n",
      " [  3.70061029]\n",
      " [  2.64406747]]\n"
     ]
    }
   ],
   "source": [
    "# Creting a Noise Vector.\n",
    "np.random.seed(101)  # Seed functio is used to generate same random numbers whenever we excute the cell.\n",
    "Noise = 5 * np.random.randn(n,1)\n",
    "print(Noise.shape)\n",
    "print(Noise)"
   ]
  },
  {
   "cell_type": "code",
   "execution_count": 36,
   "metadata": {},
   "outputs": [
    {
     "name": "stdout",
     "output_type": "stream",
     "text": [
      "(11, 1)\n",
      "2\n",
      "[[-1.4657508 ]\n",
      " [-6.85933646]\n",
      " [-0.46015277]\n",
      " [ 2.51912877]\n",
      " [ 8.25558974]\n",
      " [ 8.40340978]\n",
      " [10.75961508]\n",
      " [23.02982675]\n",
      " [14.90915878]\n",
      " [33.70061029]\n",
      " [37.64406747]]\n"
     ]
    }
   ],
   "source": [
    "yd = y + Noise\n",
    "print(yd.shape)\n",
    "print(yd.ndim)\n",
    "print(yd)"
   ]
  },
  {
   "cell_type": "code",
   "execution_count": 35,
   "metadata": {},
   "outputs": [
    {
     "name": "stdout",
     "output_type": "stream",
     "text": [
      "(11, 1)\n",
      "2\n",
      "[[1.]\n",
      " [1.]\n",
      " [1.]\n",
      " [1.]\n",
      " [1.]\n",
      " [1.]\n",
      " [1.]\n",
      " [1.]\n",
      " [1.]\n",
      " [1.]\n",
      " [1.]]\n"
     ]
    }
   ],
   "source": [
    "# Creating a matrix of ones using numpy ones function.\n",
    "ones = np.ones((n,1))\n",
    "print(ones.shape)\n",
    "print(ones.ndim)\n",
    "print(ones)"
   ]
  },
  {
   "cell_type": "code",
   "execution_count": 40,
   "metadata": {},
   "outputs": [
    {
     "name": "stdout",
     "output_type": "stream",
     "text": [
      "(11, 2)\n",
      "2\n",
      "[[-5.  1.]\n",
      " [-4.  1.]\n",
      " [-3.  1.]\n",
      " [-2.  1.]\n",
      " [-1.  1.]\n",
      " [ 0.  1.]\n",
      " [ 1.  1.]\n",
      " [ 2.  1.]\n",
      " [ 3.  1.]\n",
      " [ 4.  1.]\n",
      " [ 5.  1.]]\n"
     ]
    }
   ],
   "source": [
    "A = np.concatenate((x,ones), axis = 1)\n",
    "print(A.shape)\n",
    "print(A.ndim)\n",
    "print(A)"
   ]
  },
  {
   "cell_type": "code",
   "execution_count": 42,
   "metadata": {},
   "outputs": [
    {
     "name": "stdout",
     "output_type": "stream",
     "text": [
      "(2, 11)\n",
      "2\n",
      "[[-5. -4. -3. -2. -1.  0.  1.  2.  3.  4.  5.]\n",
      " [ 1.  1.  1.  1.  1.  1.  1.  1.  1.  1.  1.]]\n"
     ]
    }
   ],
   "source": [
    "A_Transpose = np.transpose(A)\n",
    "print(A_Transpose.shape)\n",
    "print(A_Transpose.ndim)\n",
    "print(A_Transpose)"
   ]
  },
  {
   "cell_type": "code",
   "execution_count": 43,
   "metadata": {},
   "outputs": [
    {
     "name": "stdout",
     "output_type": "stream",
     "text": [
      "(2, 2)\n",
      "2\n",
      "[[110.   0.]\n",
      " [  0.  11.]]\n"
     ]
    }
   ],
   "source": [
    "A_transpose_A = np.matmul(A_Transpose,A)\n",
    "print(A_transpose_A.shape)\n",
    "print(A_transpose_A.ndim)\n",
    "print(A_transpose_A)"
   ]
  },
  {
   "cell_type": "code",
   "execution_count": 45,
   "metadata": {},
   "outputs": [
    {
     "name": "stdout",
     "output_type": "stream",
     "text": [
      "[[0.00909091 0.        ]\n",
      " [0.         0.09090909]]\n"
     ]
    }
   ],
   "source": [
    "inverse = np.linalg.inv(A_transpose_A)\n",
    "print(inverse)"
   ]
  },
  {
   "cell_type": "code",
   "execution_count": 47,
   "metadata": {},
   "outputs": [
    {
     "name": "stdout",
     "output_type": "stream",
     "text": [
      "[[-0.04545455 -0.03636364 -0.02727273 -0.01818182 -0.00909091  0.\n",
      "   0.00909091  0.01818182  0.02727273  0.03636364  0.04545455]\n",
      " [ 0.09090909  0.09090909  0.09090909  0.09090909  0.09090909  0.09090909\n",
      "   0.09090909  0.09090909  0.09090909  0.09090909  0.09090909]]\n"
     ]
    }
   ],
   "source": [
    "inverse_into_a_transpose = np.matmul(inverse,A_Transpose)\n",
    "print(inverse_into_a_transpose)"
   ]
  },
  {
   "cell_type": "code",
   "execution_count": 48,
   "metadata": {},
   "outputs": [
    {
     "name": "stdout",
     "output_type": "stream",
     "text": [
      "[[ 4.06747486]\n",
      " [11.85783333]]\n"
     ]
    }
   ],
   "source": [
    "Alpha = np.matmul(inverse_into_a_transpose, yd)\n",
    "print(Alpha)"
   ]
  },
  {
   "cell_type": "code",
   "execution_count": 49,
   "metadata": {},
   "outputs": [
    {
     "name": "stdout",
     "output_type": "stream",
     "text": [
      "[[-8.47954096]\n",
      " [-4.4120661 ]\n",
      " [-0.34459124]\n",
      " [ 3.72288362]\n",
      " [ 7.79035847]\n",
      " [11.85783333]\n",
      " [15.92530819]\n",
      " [19.99278304]\n",
      " [24.0602579 ]\n",
      " [28.12773276]\n",
      " [32.19520761]]\n"
     ]
    }
   ],
   "source": [
    "y_cap = np.matmul(A,Alpha)\n",
    "print(y_cap)"
   ]
  },
  {
   "cell_type": "code",
   "execution_count": 72,
   "metadata": {},
   "outputs": [
    {
     "data": {
      "text/plain": [
       "Text(0, 0.5, 'Deependent Variable: Y ')"
      ]
     },
     "execution_count": 72,
     "metadata": {},
     "output_type": "execute_result"
    },
    {
     "data": {
      "image/png": "[encoded data removed]",
      "text/plain": [
       "<Figure size 576x360 with 1 Axes>"
      ]
     },
     "metadata": {
      "needs_background": "light"
     },
     "output_type": "display_data"
    }
   ],
   "source": [
    "plt.figure(figsize=(8,5))\n",
    "plt.plot(x,yd,'*')\n",
    "plt.plot(x,y_cap)\n",
    "plt.xlim(-5,5)\n",
    "plt.xlabel(\"Independent Variable: X \")\n",
    "plt.ylabel(\"Deependent Variable: Y \")"
   ]
  },
  {
   "cell_type": "markdown",
   "metadata": {},
   "source": []
  },
  {
   "cell_type": "markdown",
   "metadata": {},
   "source": [
    "# 1.C    \n",
    "\n",
    "## PYTHON CODE TO GENERATE DATA.\n"
   ]
  },
  {
   "cell_type": "code",
   "execution_count": 53,
   "metadata": {},
   "outputs": [
    {
     "name": "stdout",
     "output_type": "stream",
     "text": [
      "(2,)\n",
      "[160   7]\n"
     ]
    }
   ],
   "source": [
    "mu = np.array([160,7])\n",
    "mu.reshape(2,1)\n",
    "print(mu.shape)\n",
    "print(mu)"
   ]
  },
  {
   "cell_type": "code",
   "execution_count": 55,
   "metadata": {},
   "outputs": [
    {
     "name": "stdout",
     "output_type": "stream",
     "text": [
      "9.600000000000001\n"
     ]
    }
   ],
   "source": [
    "varX = 9\n",
    "varY = 16\n",
    "corC =0.8\n",
    "\n",
    "covarXY = corC * np.sqrt(varX) * np.sqrt(varY)\n",
    "print(covarXY)"
   ]
  },
  {
   "cell_type": "code",
   "execution_count": 56,
   "metadata": {},
   "outputs": [
    {
     "name": "stdout",
     "output_type": "stream",
     "text": [
      "(2, 2)\n",
      "[[ 9.   9.6]\n",
      " [ 9.6 16. ]]\n"
     ]
    }
   ],
   "source": [
    "sigma = np.array([[varX,covarXY],[covarXY,varY]])\n",
    "print(sigma.shape)\n",
    "print(sigma)"
   ]
  },
  {
   "cell_type": "code",
   "execution_count": 57,
   "metadata": {},
   "outputs": [],
   "source": [
    "n = 500"
   ]
  },
  {
   "cell_type": "code",
   "execution_count": 58,
   "metadata": {},
   "outputs": [
    {
     "name": "stdout",
     "output_type": "stream",
     "text": [
      "(500, 2)\n",
      "[[ 1.61376091e+02  9.46354007e+00]\n",
      " [ 1.63228862e+02  9.15519719e+00]\n",
      " [ 1.57153877e+02  3.43564919e+00]\n",
      " [ 1.51367190e+02  1.52977662e+00]\n",
      " [ 1.57757510e+02  4.59296382e+00]\n",
      " [ 1.57482889e+02 -1.09181684e+00]\n",
      " [ 1.63334538e+02  1.14097000e+01]\n",
      " [ 1.58726194e+02  5.61950342e+00]\n",
      " [ 1.58496145e+02  6.97905714e+00]\n",
      " [ 1.59010029e+02  7.26834015e+00]\n",
      " [ 1.59714373e+02  5.28215232e+00]\n",
      " [ 1.63228324e+02  9.12763591e+00]\n",
      " [ 1.58819788e+02  5.00585492e+00]\n",
      " [ 1.54508149e+02 -2.20314499e-01]\n",
      " [ 1.55772826e+02 -1.65741072e+00]\n",
      " [ 1.60868937e+02  5.24702515e+00]\n",
      " [ 1.58729203e+02  7.88717710e+00]\n",
      " [ 1.60467036e+02  7.58418086e+00]\n",
      " [ 1.55557232e+02  6.32867980e+00]\n",
      " [ 1.62602540e+02  8.72893672e+00]\n",
      " [ 1.60764731e+02  8.48014189e+00]\n",
      " [ 1.60618688e+02  9.35624818e+00]\n",
      " [ 1.58345283e+02  2.19610289e+00]\n",
      " [ 1.56312398e+02 -1.25668761e+00]\n",
      " [ 1.57853914e+02  4.95036023e+00]\n",
      " [ 1.54770764e+02 -1.46442059e+00]\n",
      " [ 1.58527445e+02  6.69050941e+00]\n",
      " [ 1.57209764e+02  2.93073704e+00]\n",
      " [ 1.55942588e+02 -1.44624003e+00]\n",
      " [ 1.61795579e+02  1.00588378e+01]\n",
      " [ 1.63714280e+02  8.66408749e+00]\n",
      " [ 1.54758684e+02  2.04341769e+00]\n",
      " [ 1.64623083e+02  1.62213354e+01]\n",
      " [ 1.58037364e+02  1.43755287e+00]\n",
      " [ 1.58283368e+02  6.80596558e-01]\n",
      " [ 1.61551428e+02  8.78872365e+00]\n",
      " [ 1.58186618e+02  5.44280047e+00]\n",
      " [ 1.60453130e+02  5.39436695e+00]\n",
      " [ 1.54961371e+02  1.55546294e+00]\n",
      " [ 1.62174591e+02  8.60941393e+00]\n",
      " [ 1.55359689e+02  2.06006262e+00]\n",
      " [ 1.62957577e+02  1.01957304e+01]\n",
      " [ 1.59631237e+02  1.27592484e+00]\n",
      " [ 1.61476960e+02  1.10095558e+01]\n",
      " [ 1.61353843e+02  1.31679042e+01]\n",
      " [ 1.64763619e+02  1.01570865e+01]\n",
      " [ 1.63582397e+02  1.22283741e+01]\n",
      " [ 1.62077961e+02  7.93716533e+00]\n",
      " [ 1.60693952e+02  5.87166251e+00]\n",
      " [ 1.58503692e+02  6.57209662e+00]\n",
      " [ 1.60356314e+02  4.66249876e+00]\n",
      " [ 1.57333691e+02  3.61615891e+00]\n",
      " [ 1.56515902e+02  4.59200490e+00]\n",
      " [ 1.60091523e+02  9.19454649e+00]\n",
      " [ 1.61211133e+02  1.02768110e+01]\n",
      " [ 1.63592295e+02  1.39183530e+01]\n",
      " [ 1.62005764e+02  5.44448830e+00]\n",
      " [ 1.59746320e+02  5.23462465e+00]\n",
      " [ 1.53968188e+02 -1.09887705e+00]\n",
      " [ 1.52804105e+02 -1.36200315e+00]\n",
      " [ 1.61980405e+02  1.06351727e+01]\n",
      " [ 1.58265920e+02  6.79882130e+00]\n",
      " [ 1.64577488e+02  1.28774364e+01]\n",
      " [ 1.61286579e+02  9.46288449e+00]\n",
      " [ 1.59045552e+02  6.49987808e+00]\n",
      " [ 1.58372178e+02  4.21531185e+00]\n",
      " [ 1.58342360e+02  3.62152937e+00]\n",
      " [ 1.60693413e+02  8.89597313e+00]\n",
      " [ 1.60679936e+02  5.38233826e+00]\n",
      " [ 1.55103812e+02 -2.55578956e+00]\n",
      " [ 1.62757136e+02  1.39267775e+01]\n",
      " [ 1.58069604e+02  5.27815164e+00]\n",
      " [ 1.63453630e+02  8.25113294e+00]\n",
      " [ 1.60655866e+02  7.81687139e+00]\n",
      " [ 1.59850178e+02  7.03258620e+00]\n",
      " [ 1.57967639e+02  1.20377774e+00]\n",
      " [ 1.65684657e+02  1.41217708e+01]\n",
      " [ 1.67940429e+02  1.11356203e+01]\n",
      " [ 1.55618815e+02  1.20840544e+00]\n",
      " [ 1.62196967e+02  9.10901909e+00]\n",
      " [ 1.53836855e+02  1.17024733e+00]\n",
      " [ 1.57137001e+02  3.78057263e+00]\n",
      " [ 1.63060288e+02  1.10427276e+01]\n",
      " [ 1.60072276e+02  1.24504182e+01]\n",
      " [ 1.64476450e+02  9.95459344e+00]\n",
      " [ 1.63469728e+02  1.40714707e+01]\n",
      " [ 1.63803519e+02  1.40392438e+01]\n",
      " [ 1.59471820e+02  5.70305478e+00]\n",
      " [ 1.53861705e+02 -3.21328353e+00]\n",
      " [ 1.60171780e+02  3.99005824e+00]\n",
      " [ 1.61248625e+02  1.07710941e+01]\n",
      " [ 1.62152455e+02  9.98508041e+00]\n",
      " [ 1.58017814e+02  4.38229870e+00]\n",
      " [ 1.61068225e+02  8.66784233e+00]\n",
      " [ 1.66126136e+02  1.50176594e+01]\n",
      " [ 1.54927456e+02  4.36742696e+00]\n",
      " [ 1.57909026e+02  4.41690138e+00]\n",
      " [ 1.60489819e+02  5.68198007e+00]\n",
      " [ 1.56252848e+02  4.02405867e+00]\n",
      " [ 1.63387933e+02  7.75841789e+00]\n",
      " [ 1.57251233e+02  6.39149724e+00]\n",
      " [ 1.60894554e+02  8.97965381e+00]\n",
      " [ 1.57648755e+02  6.24520950e+00]\n",
      " [ 1.59744572e+02  4.18950667e+00]\n",
      " [ 1.58054927e+02  3.43427300e+00]\n",
      " [ 1.58820065e+02  7.65619197e+00]\n",
      " [ 1.63957535e+02  1.49304745e+01]\n",
      " [ 1.63660422e+02  1.07015301e+01]\n",
      " [ 1.55208635e+02  3.31945285e+00]\n",
      " [ 1.63516413e+02  9.31227675e+00]\n",
      " [ 1.65225148e+02  1.22143279e+01]\n",
      " [ 1.55390252e+02  9.01476880e-01]\n",
      " [ 1.62879716e+02  1.07675040e+01]\n",
      " [ 1.63759072e+02  1.21363352e+01]\n",
      " [ 1.59834935e+02  3.05157467e+00]\n",
      " [ 1.55657317e+02  4.97249174e+00]\n",
      " [ 1.58141205e+02  2.89247062e+00]\n",
      " [ 1.58632697e+02  2.47645976e+00]\n",
      " [ 1.60202703e+02  1.29947834e+01]\n",
      " [ 1.64456756e+02  1.12533641e+01]\n",
      " [ 1.60580459e+02  8.06841874e+00]\n",
      " [ 1.55405159e+02  2.52635671e+00]\n",
      " [ 1.55328746e+02  2.35878425e+00]\n",
      " [ 1.60918156e+02  4.64585320e+00]\n",
      " [ 1.60499761e+02  5.79225628e+00]\n",
      " [ 1.62320968e+02  9.56504420e+00]\n",
      " [ 1.53044295e+02 -2.94163922e-01]\n",
      " [ 1.58518000e+02  2.03389748e+00]\n",
      " [ 1.60273103e+02  6.81094603e+00]\n",
      " [ 1.58167219e+02  6.57924071e+00]\n",
      " [ 1.60236316e+02  7.65159325e+00]\n",
      " [ 1.57676284e+02  4.75332490e+00]\n",
      " [ 1.61179067e+02  1.47522635e+00]\n",
      " [ 1.62884412e+02  1.07126430e+01]\n",
      " [ 1.64114811e+02  1.00149326e+01]\n",
      " [ 1.66199108e+02  1.75999256e+01]\n",
      " [ 1.62059082e+02  7.49582606e+00]\n",
      " [ 1.55890782e+02 -1.06961336e-01]\n",
      " [ 1.57364753e+02  3.84050770e+00]\n",
      " [ 1.60849651e+02  2.80634250e+00]\n",
      " [ 1.61007241e+02  7.26459913e+00]\n",
      " [ 1.54678807e+02  6.73369519e+00]\n",
      " [ 1.54239042e+02  2.16706294e+00]\n",
      " [ 1.63774823e+02  1.29585451e+01]\n",
      " [ 1.62415887e+02  6.70852821e+00]\n",
      " [ 1.57874264e+02  6.61633146e+00]\n",
      " [ 1.57959488e+02  6.50942924e+00]\n",
      " [ 1.56780717e+02  1.40420576e+00]\n",
      " [ 1.55718476e+02 -1.37950509e+00]\n",
      " [ 1.60670629e+02  7.82340794e+00]\n",
      " [ 1.63057797e+02  7.41478542e+00]\n",
      " [ 1.54811936e+02  4.47359551e+00]\n",
      " [ 1.58485635e+02  5.13789728e+00]\n",
      " [ 1.60438507e+02  8.83682185e+00]\n",
      " [ 1.58625035e+02  4.55596261e+00]\n",
      " [ 1.64807794e+02  7.14483195e+00]\n",
      " [ 1.58345662e+02  8.34344915e+00]\n",
      " [ 1.61742300e+02  5.42603103e+00]\n",
      " [ 1.64223129e+02  8.82147426e+00]\n",
      " [ 1.63785221e+02  1.63866254e+01]\n",
      " [ 1.58949069e+02  6.71921937e+00]\n",
      " [ 1.65356318e+02  1.60876916e+01]\n",
      " [ 1.56541001e+02  5.35825864e+00]\n",
      " [ 1.64450744e+02  9.98415340e+00]\n",
      " [ 1.55712495e+02  2.57297763e+00]\n",
      " [ 1.59878052e+02  8.81685564e+00]\n",
      " [ 1.54815374e+02  4.00278919e-01]\n",
      " [ 1.57388283e+02  5.74481959e+00]\n",
      " [ 1.58135555e+02  3.96357473e+00]\n",
      " [ 1.62097736e+02  5.03442789e+00]\n",
      " [ 1.60371913e+02  1.43848091e+01]\n",
      " [ 1.63796489e+02  7.90674656e+00]\n",
      " [ 1.54084085e+02  3.28603700e+00]\n",
      " [ 1.63546208e+02  1.21559275e+01]\n",
      " [ 1.60983563e+02  7.59276731e+00]\n",
      " [ 1.63329885e+02  9.56848832e+00]\n",
      " [ 1.60665690e+02  9.40767094e+00]\n",
      " [ 1.60233983e+02  7.94456398e+00]\n",
      " [ 1.59817497e+02  6.22360111e+00]\n",
      " [ 1.62843635e+02  8.80374308e+00]\n",
      " [ 1.61040463e+02  8.44470306e+00]\n",
      " [ 1.64889241e+02  1.19157835e+01]\n",
      " [ 1.58329682e+02  2.46090261e+00]\n",
      " [ 1.61431622e+02  5.28673742e+00]\n",
      " [ 1.54882313e+02  3.24851234e+00]\n",
      " [ 1.59141119e+02  6.10487646e+00]\n",
      " [ 1.58894476e+02  5.06241982e+00]\n",
      " [ 1.60873239e+02  1.05232373e+01]\n",
      " [ 1.61469441e+02  1.01995222e+01]\n",
      " [ 1.57998999e+02  9.93013201e-01]\n",
      " [ 1.60380158e+02  7.57885304e+00]\n",
      " [ 1.66505801e+02  1.49926666e+01]\n",
      " [ 1.61402347e+02  5.60110689e+00]\n",
      " [ 1.55198821e+02  4.53651455e+00]\n",
      " [ 1.53374421e+02  3.02578973e+00]\n",
      " [ 1.59323091e+02  9.17138795e+00]\n",
      " [ 1.60596426e+02  4.60096587e+00]\n",
      " [ 1.63080249e+02  1.03450469e+01]\n",
      " [ 1.64891040e+02  1.39293701e+01]\n",
      " [ 1.56339386e+02  9.37861054e+00]\n",
      " [ 1.57450503e+02  7.01004689e+00]\n",
      " [ 1.59322016e+02  4.22258183e+00]\n",
      " [ 1.63358631e+02  1.02894872e+01]\n",
      " [ 1.59471893e+02  9.31815491e+00]\n",
      " [ 1.57066675e+02  1.77528245e+00]\n",
      " [ 1.61665108e+02  7.27514899e+00]\n",
      " [ 1.60174738e+02  7.97903382e+00]\n",
      " [ 1.61336911e+02  9.28463553e+00]\n",
      " [ 1.60072961e+02  1.06646105e+01]\n",
      " [ 1.60079696e+02  5.60762329e+00]\n",
      " [ 1.58279345e+02 -7.68444586e-02]\n",
      " [ 1.58438032e+02  8.85466652e+00]\n",
      " [ 1.55606746e+02  2.84525956e+00]\n",
      " [ 1.58816636e+02  8.04169566e+00]\n",
      " [ 1.56611476e+02  5.05482761e+00]\n",
      " [ 1.61401281e+02  1.19852605e+01]\n",
      " [ 1.64107105e+02  9.46762183e+00]\n",
      " [ 1.60113504e+02  6.97220757e+00]\n",
      " [ 1.56732892e+02  1.76690316e+00]\n",
      " [ 1.60373463e+02  4.84797352e+00]\n",
      " [ 1.63851662e+02  1.15378370e+01]\n",
      " [ 1.55147259e+02  6.96748079e+00]\n",
      " [ 1.60648784e+02  1.27391762e+01]\n",
      " [ 1.59014003e+02  9.36194526e+00]\n",
      " [ 1.63735894e+02  1.30356972e+01]\n",
      " [ 1.60120916e+02  5.98059027e+00]\n",
      " [ 1.60755828e+02  8.07751631e+00]\n",
      " [ 1.62006189e+02  4.83790499e+00]\n",
      " [ 1.64563871e+02  1.11750027e+01]\n",
      " [ 1.69323385e+02  1.66712931e+01]\n",
      " [ 1.57579759e+02  4.35475266e+00]\n",
      " [ 1.61392092e+02  1.14691099e+01]\n",
      " [ 1.61192558e+02  6.21379532e+00]\n",
      " [ 1.56630827e+02  5.71439640e+00]\n",
      " [ 1.60060942e+02  9.03275625e+00]\n",
      " [ 1.58796569e+02  6.13861154e+00]\n",
      " [ 1.65147529e+02  1.07331401e+01]\n",
      " [ 1.62682471e+02  1.16585815e+01]\n",
      " [ 1.60420797e+02  7.10419133e+00]\n",
      " [ 1.54559091e+02  3.27372143e+00]\n",
      " [ 1.67838206e+02  1.25363060e+01]\n",
      " [ 1.60730627e+02  9.20409775e+00]\n",
      " [ 1.58747652e+02  4.49719736e+00]\n",
      " [ 1.63495603e+02  1.69802332e+01]\n",
      " [ 1.61463855e+02  1.00354095e+01]\n",
      " [ 1.60353964e+02  6.63073696e+00]\n",
      " [ 1.55368353e+02  3.72764574e+00]\n",
      " [ 1.66955084e+02  1.01247238e+01]\n",
      " [ 1.61383777e+02  9.88396700e+00]\n",
      " [ 1.58794678e+02  6.22286877e+00]\n",
      " [ 1.55630593e+02  3.45844041e+00]\n",
      " [ 1.62933154e+02  7.52089248e+00]\n",
      " [ 1.60619758e+02  1.10340898e+01]\n",
      " [ 1.60539689e+02  1.07820127e+01]\n",
      " [ 1.55451376e+02  6.23352447e+00]\n",
      " [ 1.62922323e+02  5.01813735e+00]\n",
      " [ 1.54436359e+02 -8.61576888e-01]\n",
      " [ 1.58559936e+02  8.73391402e+00]\n",
      " [ 1.62282477e+02  7.43475203e+00]\n",
      " [ 1.60245978e+02  8.88241192e+00]\n",
      " [ 1.58814300e+02  1.01172105e+01]\n",
      " [ 1.63631420e+02  1.01246841e+01]\n",
      " [ 1.61402451e+02  1.40631410e+01]\n",
      " [ 1.55627610e+02 -4.64519853e-02]\n",
      " [ 1.64653194e+02  8.92601877e+00]\n",
      " [ 1.55248044e+02  1.86423438e+00]\n",
      " [ 1.58703643e+02  4.14752335e+00]\n",
      " [ 1.56649804e+02  2.27755203e+00]\n",
      " [ 1.64422864e+02  1.09024895e+01]\n",
      " [ 1.60990015e+02  4.77401011e+00]\n",
      " [ 1.59741988e+02  4.10545675e+00]\n",
      " [ 1.61997167e+02  8.42043643e+00]\n",
      " [ 1.60271170e+02  8.76184068e+00]\n",
      " [ 1.64511522e+02  1.16502115e+01]\n",
      " [ 1.64493167e+02  1.20247673e+01]\n",
      " [ 1.62639581e+02  1.11143146e+01]\n",
      " [ 1.56393134e+02  6.94610407e+00]\n",
      " [ 1.59689358e+02  1.00813594e+01]\n",
      " [ 1.62389866e+02  8.59184443e+00]\n",
      " [ 1.57040232e+02  5.44515223e+00]\n",
      " [ 1.56383525e+02  3.17937481e+00]\n",
      " [ 1.57414001e+02  7.96836746e+00]\n",
      " [ 1.62419981e+02  8.17445766e+00]\n",
      " [ 1.63392147e+02  8.40032915e+00]\n",
      " [ 1.59913823e+02  1.10697017e+01]\n",
      " [ 1.62305815e+02  1.49153842e+01]\n",
      " [ 1.62957528e+02  1.40414151e+01]\n",
      " [ 1.65370978e+02  1.92817181e+01]\n",
      " [ 1.61682180e+02  9.90681023e+00]\n",
      " [ 1.60671329e+02  7.03543190e+00]\n",
      " [ 1.54444901e+02  1.88342972e+00]\n",
      " [ 1.59582862e+02  7.64628953e+00]\n",
      " [ 1.57781736e+02  3.02281628e+00]\n",
      " [ 1.56328866e+02  4.55578594e+00]\n",
      " [ 1.63076759e+02  8.33763054e+00]\n",
      " [ 1.60183058e+02  4.89814397e+00]\n",
      " [ 1.59164382e+02  5.06708445e+00]\n",
      " [ 1.56092664e+02  3.83228303e+00]\n",
      " [ 1.52646348e+02 -1.79814660e-01]\n",
      " [ 1.59290664e+02  4.37258165e+00]\n",
      " [ 1.62125443e+02  1.14450433e+01]\n",
      " [ 1.55258219e+02  2.58502308e+00]\n",
      " [ 1.61045504e+02  7.02455102e+00]\n",
      " [ 1.56486712e+02  2.66655297e+00]\n",
      " [ 1.62965814e+02  1.53282455e+01]\n",
      " [ 1.67048875e+02  1.50182242e+01]\n",
      " [ 1.60357326e+02  9.11718021e+00]\n",
      " [ 1.62336150e+02  8.51283207e+00]\n",
      " [ 1.58659161e+02  8.11725404e+00]\n",
      " [ 1.58285884e+02  1.01396462e+01]\n",
      " [ 1.59871936e+02  5.50500875e+00]\n",
      " [ 1.61993880e+02  8.09203367e+00]\n",
      " [ 1.58531345e+02  4.13908158e+00]\n",
      " [ 1.61229826e+02  7.08569629e+00]\n",
      " [ 1.57382128e+02 -1.77712443e+00]\n",
      " [ 1.60441491e+02  8.65765473e+00]\n",
      " [ 1.59069341e+02  5.77921537e+00]\n",
      " [ 1.57613686e+02  4.25910406e+00]\n",
      " [ 1.61833175e+02  6.88005483e+00]\n",
      " [ 1.60428673e+02  4.72766305e+00]\n",
      " [ 1.64346138e+02  1.57597741e+01]\n",
      " [ 1.61331463e+02  7.61284673e+00]\n",
      " [ 1.60709786e+02  7.64895007e+00]\n",
      " [ 1.61107464e+02  8.09430888e+00]\n",
      " [ 1.59498416e+02  5.93698531e+00]\n",
      " [ 1.55442804e+02  7.08343388e+00]\n",
      " [ 1.56670255e+02  3.51810416e+00]\n",
      " [ 1.59216837e+02  6.89965896e+00]\n",
      " [ 1.57216471e+02  4.23831576e+00]\n",
      " [ 1.55375855e+02  3.28468467e+00]\n",
      " [ 1.61092074e+02  7.33617819e+00]\n",
      " [ 1.56532750e+02  6.49417950e+00]\n",
      " [ 1.62372552e+02  1.15991555e+01]\n",
      " [ 1.60312214e+02  7.06363993e+00]\n",
      " [ 1.58649263e+02  9.21238527e+00]\n",
      " [ 1.56837048e+02  2.90727426e+00]\n",
      " [ 1.60228394e+02  9.78509764e+00]\n",
      " [ 1.59528386e+02  5.20636977e+00]\n",
      " [ 1.60775809e+02  8.81966408e+00]\n",
      " [ 1.64703701e+02  1.33390593e+01]\n",
      " [ 1.61452579e+02  7.59375840e+00]\n",
      " [ 1.59015087e+02  3.59639976e+00]\n",
      " [ 1.59823514e+02  5.72928744e+00]\n",
      " [ 1.61674411e+02  8.10398370e+00]\n",
      " [ 1.52044598e+02 -4.09697376e+00]\n",
      " [ 1.64260101e+02  8.85320642e+00]\n",
      " [ 1.65265424e+02  1.19213978e+01]\n",
      " [ 1.61568559e+02  8.71354692e+00]\n",
      " [ 1.57718433e+02  2.47221835e+00]\n",
      " [ 1.59008348e+02  5.50260235e+00]\n",
      " [ 1.57714134e+02  5.06810850e+00]\n",
      " [ 1.60040992e+02  6.79016020e+00]\n",
      " [ 1.54487978e+02 -5.91354917e-01]\n",
      " [ 1.63847520e+02  1.09620979e+01]\n",
      " [ 1.65379692e+02  1.29777427e+01]\n",
      " [ 1.62747063e+02  1.36297962e+01]\n",
      " [ 1.53527924e+02 -1.51887955e+00]\n",
      " [ 1.63014892e+02  9.34102732e+00]\n",
      " [ 1.65227259e+02  1.07935102e+01]\n",
      " [ 1.59430084e+02  8.86916891e+00]\n",
      " [ 1.63293004e+02  7.02457744e+00]\n",
      " [ 1.56567604e+02 -2.91275735e+00]\n",
      " [ 1.55960489e+02  6.27721987e+00]\n",
      " [ 1.55735265e+02  2.99167116e+00]\n",
      " [ 1.64391300e+02  1.54323333e+01]\n",
      " [ 1.61977225e+02  9.77278284e+00]\n",
      " [ 1.65504811e+02  1.15703314e+01]\n",
      " [ 1.60406286e+02  1.26345482e+01]\n",
      " [ 1.64187810e+02  9.33885857e+00]\n",
      " [ 1.64335429e+02  1.79941855e+01]\n",
      " [ 1.58819448e+02  3.88545415e+00]\n",
      " [ 1.68032729e+02  1.56332295e+01]\n",
      " [ 1.59637371e+02  1.18725526e+01]\n",
      " [ 1.61614442e+02  1.10445300e+01]\n",
      " [ 1.65153117e+02  1.34288159e+01]\n",
      " [ 1.57974778e+02  2.46202463e+00]\n",
      " [ 1.62959409e+02  1.32263623e+01]\n",
      " [ 1.58013289e+02  4.94989977e+00]\n",
      " [ 1.57502923e+02  2.18781910e+00]\n",
      " [ 1.60358111e+02  4.54695884e+00]\n",
      " [ 1.60637016e+02  8.08940385e+00]\n",
      " [ 1.66691228e+02  1.49733178e+01]\n",
      " [ 1.60046109e+02  2.85738792e+00]\n",
      " [ 1.61816905e+02  9.88356187e+00]\n",
      " [ 1.50484785e+02 -4.01167951e+00]\n",
      " [ 1.63439244e+02  7.77277948e+00]\n",
      " [ 1.60944979e+02  8.43534625e+00]\n",
      " [ 1.57657553e+02  2.25150332e+00]\n",
      " [ 1.56327109e+02  4.67315829e+00]\n",
      " [ 1.59684548e+02  8.61145524e+00]\n",
      " [ 1.60969677e+02  8.45855654e+00]\n",
      " [ 1.64097511e+02  1.29768743e+01]\n",
      " [ 1.56927762e+02  4.14442252e+00]\n",
      " [ 1.59409738e+02  8.81981445e+00]\n",
      " [ 1.61900251e+02  9.10738229e+00]\n",
      " [ 1.62887648e+02  1.29225589e+01]\n",
      " [ 1.60888780e+02  8.88829730e+00]\n",
      " [ 1.59477079e+02  6.24044940e+00]\n",
      " [ 1.58228076e+02  6.44429263e+00]\n",
      " [ 1.59551122e+02  7.82090831e+00]\n",
      " [ 1.58800795e+02  6.82436007e+00]\n",
      " [ 1.59379344e+02  8.85591787e+00]\n",
      " [ 1.59324426e+02  3.81216046e+00]\n",
      " [ 1.61369721e+02  6.98660207e+00]\n",
      " [ 1.65156595e+02  1.38094978e+01]\n",
      " [ 1.55519531e+02  2.39756225e+00]\n",
      " [ 1.59492744e+02  7.40723646e+00]\n",
      " [ 1.56675570e+02  5.47286771e+00]\n",
      " [ 1.55058314e+02  5.55854173e+00]\n",
      " [ 1.58984016e+02  9.66803912e-01]\n",
      " [ 1.58346550e+02  7.37742721e+00]\n",
      " [ 1.62478388e+02  6.43092131e+00]\n",
      " [ 1.60618968e+02  6.27401194e+00]\n",
      " [ 1.66252268e+02  1.56037846e+01]\n",
      " [ 1.56154209e+02  3.38943945e+00]\n",
      " [ 1.57853069e+02  4.38645274e+00]\n",
      " [ 1.61373225e+02  1.22190254e+01]\n",
      " [ 1.61360024e+02  7.34950669e+00]\n",
      " [ 1.57339960e+02  7.77803101e+00]\n",
      " [ 1.58155984e+02  5.30563661e+00]\n",
      " [ 1.60050004e+02  1.22362505e+01]\n",
      " [ 1.55481094e+02  4.87771938e+00]\n",
      " [ 1.56405836e+02 -1.25767015e+00]\n",
      " [ 1.56555540e+02  4.18554336e+00]\n",
      " [ 1.64490523e+02  1.43779934e+01]\n",
      " [ 1.63700916e+02  7.04502816e+00]\n",
      " [ 1.58057831e+02  3.70649506e+00]\n",
      " [ 1.59216809e+02  7.88322772e+00]\n",
      " [ 1.59215963e+02  7.06972028e+00]\n",
      " [ 1.62432575e+02  1.25654142e+01]\n",
      " [ 1.62253857e+02  7.52099911e+00]\n",
      " [ 1.60054985e+02  9.06707248e+00]\n",
      " [ 1.63147342e+02  1.33014927e+01]\n",
      " [ 1.58720192e+02  1.01106501e+01]\n",
      " [ 1.57600347e+02  4.43766589e+00]\n",
      " [ 1.58403699e+02  3.34550331e+00]\n",
      " [ 1.58932576e+02  4.96462284e+00]\n",
      " [ 1.61196836e+02  9.39098292e+00]\n",
      " [ 1.58664266e+02  8.65741065e+00]\n",
      " [ 1.58714488e+02  6.07259259e+00]\n",
      " [ 1.58860832e+02  8.77853524e+00]\n",
      " [ 1.67401746e+02  1.26823877e+01]\n",
      " [ 1.63213120e+02  1.16420762e+01]\n",
      " [ 1.66740513e+02  1.38303789e+01]\n",
      " [ 1.57461547e+02  4.78725076e+00]\n",
      " [ 1.63148559e+02  1.33484849e+01]\n",
      " [ 1.53095239e+02  2.81347919e+00]\n",
      " [ 1.59148042e+02  6.56398350e+00]\n",
      " [ 1.58165630e+02  8.86656561e+00]\n",
      " [ 1.59715404e+02  4.11581613e+00]\n",
      " [ 1.58444428e+02  3.16037027e+00]\n",
      " [ 1.59947077e+02  3.56114280e+00]\n",
      " [ 1.57283386e+02  9.56314560e+00]\n",
      " [ 1.62976347e+02  1.18803698e+01]\n",
      " [ 1.57090733e+02  2.22867353e+00]\n",
      " [ 1.56453598e+02  3.18344210e+00]\n",
      " [ 1.62652299e+02  8.70914801e+00]\n",
      " [ 1.61660897e+02  4.65038815e+00]\n",
      " [ 1.63259676e+02  1.21793637e+01]\n",
      " [ 1.63648281e+02  1.15510754e+01]\n",
      " [ 1.61777746e+02  1.28413387e+01]\n",
      " [ 1.56973861e+02  3.86678234e+00]\n",
      " [ 1.60140686e+02  5.79152509e+00]\n",
      " [ 1.60537236e+02  1.33769137e+01]\n",
      " [ 1.58509158e+02  4.44188614e+00]\n",
      " [ 1.57588700e+02  6.08707835e+00]\n",
      " [ 1.54316197e+02  3.33229981e+00]\n",
      " [ 1.58986531e+02  3.38137605e+00]\n",
      " [ 1.59145490e+02  7.12186279e+00]\n",
      " [ 1.60115146e+02  7.39007756e+00]\n",
      " [ 1.66379406e+02  2.05533937e+01]\n",
      " [ 1.58298411e+02  9.12081349e+00]\n",
      " [ 1.56890166e+02  3.64614243e+00]\n",
      " [ 1.55261580e+02 -1.59949862e+00]\n",
      " [ 1.52289166e+02 -3.76377728e+00]\n",
      " [ 1.65970528e+02  1.36608766e+01]\n",
      " [ 1.61932559e+02  4.93569260e+00]\n",
      " [ 1.60955467e+02  7.14172823e+00]\n",
      " [ 1.62658746e+02  9.32207408e+00]\n",
      " [ 1.61926144e+02  1.02852323e+01]\n",
      " [ 1.59395599e+02  5.77556184e+00]\n",
      " [ 1.59440380e+02  7.01451946e+00]\n",
      " [ 1.58160650e+02  4.97214276e+00]\n",
      " [ 1.52744757e+02  1.16570469e+00]\n",
      " [ 1.64186460e+02  1.01756805e+01]\n",
      " [ 1.61867133e+02  1.17144848e+01]\n",
      " [ 1.60167848e+02  1.03758135e+01]\n",
      " [ 1.64318737e+02  9.37608837e+00]\n",
      " [ 1.66810401e+02  1.23334718e+01]\n",
      " [ 1.58597053e+02  1.04147051e+01]\n",
      " [ 1.57866984e+02  4.28856300e+00]\n",
      " [ 1.62374350e+02  9.50342125e+00]\n",
      " [ 1.62650461e+02  9.72304855e+00]\n",
      " [ 1.58658019e+02  6.78444728e+00]\n",
      " [ 1.60180359e+02  8.97453636e+00]\n",
      " [ 1.60680309e+02  6.95896039e+00]\n",
      " [ 1.59434181e+02  4.85027493e+00]\n",
      " [ 1.59797071e+02  6.65691216e+00]\n",
      " [ 1.57231352e+02  2.83381739e+00]\n",
      " [ 1.60295608e+02  4.72194429e+00]]\n"
     ]
    }
   ],
   "source": [
    "Data = np.random.multivariate_normal(mu,sigma,n)\n",
    "print(Data.shape)\n",
    "print(Data)"
   ]
  },
  {
   "cell_type": "code",
   "execution_count": 59,
   "metadata": {},
   "outputs": [],
   "source": [
    "# Retriving first column in data as X, and second column as Y.\n",
    "X = Data[:,0]\n",
    "X = X.reshape((500,1))\n",
    "\n",
    "Y = Data[:,1]\n",
    "Y = Y.reshape((500,1))"
   ]
  },
  {
   "cell_type": "code",
   "execution_count": 60,
   "metadata": {},
   "outputs": [
    {
     "name": "stdout",
     "output_type": "stream",
     "text": [
      "(500, 1)\n",
      "(500, 1)\n"
     ]
    }
   ],
   "source": [
    "print(X.shape)\n",
    "print(Y.shape)"
   ]
  },
  {
   "cell_type": "code",
   "execution_count": 73,
   "metadata": {},
   "outputs": [
    {
     "data": {
      "text/plain": [
       "Text(0, 0.5, 'Dependent Variable: WEIGHT')"
      ]
     },
     "execution_count": 73,
     "metadata": {},
     "output_type": "execute_result"
    },
    {
     "data": {
      "image/png": "[encoded data removed]",
      "text/plain": [
       "<Figure size 800x500 with 1 Axes>"
      ]
     },
     "metadata": {
      "needs_background": "light"
     },
     "output_type": "display_data"
    }
   ],
   "source": [
    "# PLOTTING THE DATA USING MATPLOTLIB LIBRARY FUNCTIONS.\n",
    "plt.figure(figsize = (8,5),dpi=100)\n",
    "plt.plot(X,Y,'.')\n",
    "plt.xlabel(\"Independent Variable: HEIGHT\")\n",
    "plt.ylabel(\"Dependent Variable: WEIGHT\")"
   ]
  },
  {
   "cell_type": "markdown",
   "metadata": {},
   "source": []
  },
  {
   "cell_type": "markdown",
   "metadata": {},
   "source": [
    "# 1.D"
   ]
  },
  {
   "cell_type": "code",
   "execution_count": 74,
   "metadata": {},
   "outputs": [
    {
     "name": "stdout",
     "output_type": "stream",
     "text": [
      "(500, 1)\n",
      "2\n"
     ]
    }
   ],
   "source": [
    "Ones = np.ones((500,1))\n",
    "print(Ones.shape)\n",
    "print(Ones.ndim)"
   ]
  },
  {
   "cell_type": "code",
   "execution_count": 75,
   "metadata": {},
   "outputs": [
    {
     "name": "stdout",
     "output_type": "stream",
     "text": [
      "(500, 2)\n"
     ]
    }
   ],
   "source": [
    "a = np.concatenate((X,Ones), axis=1)\n",
    "print(a.shape)"
   ]
  },
  {
   "cell_type": "code",
   "execution_count": 76,
   "metadata": {},
   "outputs": [
    {
     "name": "stdout",
     "output_type": "stream",
     "text": [
      "(2, 500)\n"
     ]
    }
   ],
   "source": [
    "a_transpose = np.transpose(a)\n",
    "print(a_transpose.shape)"
   ]
  },
  {
   "cell_type": "code",
   "execution_count": 77,
   "metadata": {},
   "outputs": [
    {
     "name": "stdout",
     "output_type": "stream",
     "text": [
      "(2, 2)\n",
      "[[1.28032891e+07 7.99943244e+04]\n",
      " [7.99943244e+04 5.00000000e+02]]\n"
     ]
    }
   ],
   "source": [
    "a_transpose_a = np.matmul(a_transpose,a)\n",
    "print(a_transpose_a.shape)\n",
    "print(a_transpose_a)"
   ]
  },
  {
   "cell_type": "code",
   "execution_count": 78,
   "metadata": {},
   "outputs": [
    {
     "name": "stdout",
     "output_type": "stream",
     "text": [
      "(2, 2)\n"
     ]
    }
   ],
   "source": [
    "Inverse = np.linalg.inv(a_transpose_a)\n",
    "print(Inverse.shape)"
   ]
  },
  {
   "cell_type": "code",
   "execution_count": 80,
   "metadata": {},
   "outputs": [
    {
     "name": "stdout",
     "output_type": "stream",
     "text": [
      "(2, 500)\n"
     ]
    }
   ],
   "source": [
    "Inverse_into_atranspose = np.matmul(Inverse,a_transpose)\n",
    "print(Inverse_into_atranspose.shape)\n",
    "#print(Inverse_into_atranspose)"
   ]
  },
  {
   "cell_type": "code",
   "execution_count": 81,
   "metadata": {},
   "outputs": [
    {
     "name": "stdout",
     "output_type": "stream",
     "text": [
      "(2, 1)\n"
     ]
    }
   ],
   "source": [
    "alpha = np.matmul(Inverse_into_atranspose,Y)\n",
    "print(alpha.shape)"
   ]
  },
  {
   "cell_type": "code",
   "execution_count": 82,
   "metadata": {},
   "outputs": [
    {
     "name": "stdout",
     "output_type": "stream",
     "text": [
      "(500, 1)\n",
      "[[ 8.63656275]\n",
      " [10.57675928]\n",
      " [ 4.21511873]\n",
      " [-1.84461978]\n",
      " [ 4.84723439]\n",
      " [ 4.55965596]\n",
      " [10.68742151]\n",
      " [ 5.86162725]\n",
      " [ 5.62072319]\n",
      " [ 6.1588553 ]\n",
      " [ 6.8964347 ]\n",
      " [10.57619571]\n",
      " [ 5.95963793]\n",
      " [ 1.44454885]\n",
      " [ 2.7689009 ]\n",
      " [ 8.10547804]\n",
      " [ 5.8647784 ]\n",
      " [ 7.68461295]\n",
      " [ 2.54313447]\n",
      " [ 9.92088353]\n",
      " [ 7.99635465]\n",
      " [ 7.84342033]\n",
      " [ 5.46274246]\n",
      " [ 3.33393329]\n",
      " [ 4.94818782]\n",
      " [ 1.71955616]\n",
      " [ 5.65349995]\n",
      " [ 4.27364292]\n",
      " [ 2.94667313]\n",
      " [ 9.07584478]\n",
      " [11.08508156]\n",
      " [ 1.70690604]\n",
      " [12.03676841]\n",
      " [ 5.1402942 ]\n",
      " [ 5.39790556]\n",
      " [ 8.82017343]\n",
      " [ 5.29659086]\n",
      " [ 7.67005037]\n",
      " [ 1.91915625]\n",
      " [ 9.47274045]\n",
      " [ 2.33626945]\n",
      " [10.29267273]\n",
      " [ 6.80937589]\n",
      " [ 8.7421914 ]\n",
      " [ 8.61326476]\n",
      " [12.18393576]\n",
      " [10.94697626]\n",
      " [ 9.37155148]\n",
      " [ 7.92223642]\n",
      " [ 5.62862651]\n",
      " [ 7.56866666]\n",
      " [ 4.4034176 ]\n",
      " [ 3.54704015]\n",
      " [ 7.29138044]\n",
      " [ 8.46382105]\n",
      " [10.95734104]\n",
      " [ 9.2959473 ]\n",
      " [ 6.92988867]\n",
      " [ 0.87910963]\n",
      " [-0.33990272]\n",
      " [ 9.26939168]\n",
      " [ 5.37963431]\n",
      " [11.98902094]\n",
      " [ 8.54282705]\n",
      " [ 6.19605492]\n",
      " [ 5.49090682]\n",
      " [ 5.45968146]\n",
      " [ 7.9216723 ]\n",
      " [ 7.90755894]\n",
      " [ 2.06831905]\n",
      " [10.08277394]\n",
      " [ 5.17405544]\n",
      " [10.81213262]\n",
      " [ 7.88235273]\n",
      " [ 7.0386482 ]\n",
      " [ 5.06727847]\n",
      " [13.14843402]\n",
      " [15.51064689]\n",
      " [ 2.60762293]\n",
      " [ 9.49617245]\n",
      " [ 0.74157961]\n",
      " [ 4.19744637]\n",
      " [10.40023016]\n",
      " [ 7.27122556]\n",
      " [11.88321568]\n",
      " [10.82899067]\n",
      " [11.17853174]\n",
      " [ 6.64243602]\n",
      " [ 0.76760161]\n",
      " [ 7.37542532]\n",
      " [ 8.50308171]\n",
      " [ 9.44956047]\n",
      " [ 5.11982114]\n",
      " [ 8.31417028]\n",
      " [13.61074465]\n",
      " [ 1.8836418 ]\n",
      " [ 5.00590027]\n",
      " [ 7.70847135]\n",
      " [ 3.27157362]\n",
      " [10.74333643]\n",
      " [ 4.31706886]\n",
      " [ 8.13230427]\n",
      " [ 4.73334818]\n",
      " [ 6.92805905]\n",
      " [ 5.15868541]\n",
      " [ 5.95992755]\n",
      " [11.33981522]\n",
      " [11.02868212]\n",
      " [ 2.17808787]\n",
      " [10.87787837]\n",
      " [12.66724182]\n",
      " [ 2.36827548]\n",
      " [10.21113808]\n",
      " [11.13198797]\n",
      " [ 7.02268588]\n",
      " [ 2.64794124]\n",
      " [ 5.24903494]\n",
      " [ 5.76371854]\n",
      " [ 7.40780738]\n",
      " [11.86259245]\n",
      " [ 7.80338816]\n",
      " [ 2.38388576]\n",
      " [ 2.30386661]\n",
      " [ 8.15701986]\n",
      " [ 7.71888262]\n",
      " [ 9.62602494]\n",
      " [-0.08837864]\n",
      " [ 5.64360978]\n",
      " [ 7.48152949]\n",
      " [ 5.27627608]\n",
      " [ 7.44300566]\n",
      " [ 4.76217607]\n",
      " [ 8.43024152]\n",
      " [10.21605517]\n",
      " [11.50451246]\n",
      " [13.68715941]\n",
      " [ 9.35178115]\n",
      " [ 2.89242342]\n",
      " [ 4.43594536]\n",
      " [ 8.0852824 ]\n",
      " [ 8.25030791]\n",
      " [ 1.6232598 ]\n",
      " [ 1.16274419]\n",
      " [11.1484822 ]\n",
      " [ 9.72542287]\n",
      " [ 4.96949809]\n",
      " [ 5.0587435 ]\n",
      " [ 3.82435096]\n",
      " [ 2.71198614]\n",
      " [ 7.89781289]\n",
      " [10.39762229]\n",
      " [ 1.76267002]\n",
      " [ 5.60971754]\n",
      " [ 7.65473777]\n",
      " [ 5.75569512]\n",
      " [12.23019458]\n",
      " [ 5.46313967]\n",
      " [ 9.02005152]\n",
      " [11.61794179]\n",
      " [11.15937029]\n",
      " [ 6.09501897]\n",
      " [12.80460128]\n",
      " [ 3.57332345]\n",
      " [11.85629672]\n",
      " [ 2.70572327]\n",
      " [ 7.0678369 ]\n",
      " [ 1.76627105]\n",
      " [ 4.46058514]\n",
      " [ 5.24311795]\n",
      " [ 9.39225971]\n",
      " [ 7.58500116]\n",
      " [11.17117006]\n",
      " [ 1.0004745 ]\n",
      " [10.9090796 ]\n",
      " [ 8.22551238]\n",
      " [10.68254851]\n",
      " [ 7.89264057]\n",
      " [ 7.44056311]\n",
      " [ 7.00442518]\n",
      " [10.17335502]\n",
      " [ 8.28509747]\n",
      " [12.31548458]\n",
      " [ 5.44640571]\n",
      " [ 8.69471425]\n",
      " [ 1.83636846]\n",
      " [ 6.29613154]\n",
      " [ 6.03784982]\n",
      " [ 8.1099836 ]\n",
      " [ 8.7343174 ]\n",
      " [ 5.10011865]\n",
      " [ 7.59363508]\n",
      " [14.00832428]\n",
      " [ 8.66405765]\n",
      " [ 2.16781157]\n",
      " [ 0.25732425]\n",
      " [ 6.48668985]\n",
      " [ 7.82010826]\n",
      " [10.421133  ]\n",
      " [12.31736917]\n",
      " [ 3.36219519]\n",
      " [ 4.52574159]\n",
      " [ 6.48556341]\n",
      " [10.71265159]\n",
      " [ 6.6425132 ]\n",
      " [ 4.12380156]\n",
      " [ 8.9392176 ]\n",
      " [ 7.37852234]\n",
      " [ 8.59553423]\n",
      " [ 7.27194265]\n",
      " [ 7.27899563]\n",
      " [ 5.39369352]\n",
      " [ 5.55986818]\n",
      " [ 2.59498474]\n",
      " [ 5.95633649]\n",
      " [ 3.64712393]\n",
      " [ 8.66294147]\n",
      " [11.49644261]\n",
      " [ 7.31439935]\n",
      " [ 3.77426928]\n",
      " [ 7.58662417]\n",
      " [11.22894679]\n",
      " [ 2.11381602]\n",
      " [ 7.87493675]\n",
      " [ 6.16301715]\n",
      " [11.10771553]\n",
      " [ 7.32216128]\n",
      " [ 7.98703157]\n",
      " [ 9.29639313]\n",
      " [11.97476212]\n",
      " [16.95885947]\n",
      " [ 4.66109617]\n",
      " [ 8.65331921]\n",
      " [ 8.44436931]\n",
      " [ 3.66738768]\n",
      " [ 7.25935742]\n",
      " [ 5.93532331]\n",
      " [12.5859601 ]\n",
      " [10.00458597]\n",
      " [ 7.63619173]\n",
      " [ 1.49789489]\n",
      " [15.40360052]\n",
      " [ 7.96064189]\n",
      " [ 5.88409822]\n",
      " [10.85608668]\n",
      " [ 8.72846828]\n",
      " [ 7.56620584]\n",
      " [ 2.34534216]\n",
      " [14.47880742]\n",
      " [ 8.64461137]\n",
      " [ 5.93334326]\n",
      " [ 2.61995691]\n",
      " [10.26709783]\n",
      " [ 7.84454178]\n",
      " [ 7.76069449]\n",
      " [ 2.43228326]\n",
      " [10.25575523]\n",
      " [ 1.36937155]\n",
      " [ 5.68752448]\n",
      " [ 9.58571798]\n",
      " [ 7.45312389]\n",
      " [ 5.95389113]\n",
      " [10.99831172]\n",
      " [ 8.66416704]\n",
      " [ 2.61683261]\n",
      " [12.0683001 ]\n",
      " [ 2.21935636]\n",
      " [ 5.83801187]\n",
      " [ 3.68726033]\n",
      " [11.82710113]\n",
      " [ 8.23226948]\n",
      " [ 6.92535225]\n",
      " [ 9.28694516]\n",
      " [ 7.47950445]\n",
      " [11.91994308]\n",
      " [11.90072207]\n",
      " [ 9.95967224]\n",
      " [ 3.41847952]\n",
      " [ 6.87023933]\n",
      " [ 9.69817343]\n",
      " [ 4.0961116 ]\n",
      " [ 3.40841716]\n",
      " [ 4.48751705]\n",
      " [ 9.72970989]\n",
      " [10.74774897]\n",
      " [ 7.10529616]\n",
      " [ 9.61015646]\n",
      " [10.29262216]\n",
      " [12.81995367]\n",
      " [ 8.9570947 ]\n",
      " [ 7.89854543]\n",
      " [ 1.37831607]\n",
      " [ 6.75871787]\n",
      " [ 4.87260415]\n",
      " [ 3.35117811]\n",
      " [10.41747844]\n",
      " [ 7.38723494]\n",
      " [ 6.3204921 ]\n",
      " [ 3.1038316 ]\n",
      " [-0.50510372]\n",
      " [ 6.45273275]\n",
      " [ 9.42127379]\n",
      " [ 2.23001141]\n",
      " [ 8.29037627]\n",
      " [ 3.51647227]\n",
      " [10.30129828]\n",
      " [14.57702344]\n",
      " [ 7.56972588]\n",
      " [ 9.64192346]\n",
      " [ 5.79143111]\n",
      " [ 5.40054089]\n",
      " [ 7.06143271]\n",
      " [ 9.28350301]\n",
      " [ 5.65758377]\n",
      " [ 8.48339572]\n",
      " [ 4.4541395 ]\n",
      " [ 7.65786233]\n",
      " [ 6.22096638]\n",
      " [ 4.69662402]\n",
      " [ 9.11521481]\n",
      " [ 7.64443983]\n",
      " [11.74675486]\n",
      " [ 8.58982913]\n",
      " [ 7.93881757]\n",
      " [ 8.35526073]\n",
      " [ 6.67028757]\n",
      " [ 2.42330646]\n",
      " [ 3.70867674]\n",
      " [ 6.37542149]\n",
      " [ 4.28066666]\n",
      " [ 2.3531989 ]\n",
      " [ 8.33914433]\n",
      " [ 3.56468272]\n",
      " [ 9.68004334]\n",
      " [ 7.52248545]\n",
      " [ 5.7810661 ]\n",
      " [ 3.88333986]\n",
      " [ 7.43471027]\n",
      " [ 6.70167172]\n",
      " [ 8.00795616]\n",
      " [12.12118949]\n",
      " [ 8.71665954]\n",
      " [ 6.16415185]\n",
      " [ 7.01072564]\n",
      " [ 8.94895932]\n",
      " [-1.13524768]\n",
      " [11.65665855]\n",
      " [12.7094186 ]\n",
      " [ 8.83811291]\n",
      " [ 4.80631423]\n",
      " [ 6.1570946 ]\n",
      " [ 4.80181195]\n",
      " [ 7.23846582]\n",
      " [ 1.42342606]\n",
      " [11.22460924]\n",
      " [12.82907869]\n",
      " [10.07222526]\n",
      " [ 0.41807079]\n",
      " [10.35269263]\n",
      " [12.66945246]\n",
      " [ 6.59873129]\n",
      " [10.6439278 ]\n",
      " [ 3.60118181]\n",
      " [ 2.96541908]\n",
      " [ 2.7295676 ]\n",
      " [11.79404766]\n",
      " [ 9.26606245]\n",
      " [12.96010128]\n",
      " [ 7.62099594]\n",
      " [11.58095583]\n",
      " [11.73554039]\n",
      " [ 5.95928205]\n",
      " [15.60730194]\n",
      " [ 6.81579945]\n",
      " [ 8.88616083]\n",
      " [12.59181183]\n",
      " [ 5.07475438]\n",
      " [10.29459159]\n",
      " [ 5.1150828 ]\n",
      " [ 4.58063431]\n",
      " [ 7.57054772]\n",
      " [ 7.86261368]\n",
      " [14.20250055]\n",
      " [ 7.24382398]\n",
      " [ 9.0981769 ]\n",
      " [-2.76866262]\n",
      " [10.79706803]\n",
      " [ 8.18510785]\n",
      " [ 4.74256135]\n",
      " [ 3.34933919]\n",
      " [ 6.86520232]\n",
      " [ 8.21097182]\n",
      " [11.48639607]\n",
      " [ 3.97833399]\n",
      " [ 6.57742482]\n",
      " [ 9.18545564]\n",
      " [10.21944489]\n",
      " [ 8.12625725]\n",
      " [ 6.64794383]\n",
      " [ 5.34000479]\n",
      " [ 6.72548052]\n",
      " [ 5.9397487 ]\n",
      " [ 6.54559691]\n",
      " [ 6.48808773]\n",
      " [ 8.62989203]\n",
      " [12.59545385]\n",
      " [ 2.50365409]\n",
      " [ 6.66434771]\n",
      " [ 3.71424241]\n",
      " [ 2.02067358]\n",
      " [ 6.13161444]\n",
      " [ 5.46406926]\n",
      " [ 9.79087318]\n",
      " [ 7.84371406]\n",
      " [13.74282743]\n",
      " [ 3.16827996]\n",
      " [ 4.94730273]\n",
      " [ 8.63356205]\n",
      " [ 8.61973754]\n",
      " [ 4.40998207]\n",
      " [ 5.26451146]\n",
      " [ 7.24790285]\n",
      " [ 2.46340294]\n",
      " [ 3.43178083]\n",
      " [ 3.58854845]\n",
      " [11.89795325]\n",
      " [11.07108723]\n",
      " [ 5.1617267 ]\n",
      " [ 6.37539299]\n",
      " [ 6.37450676]\n",
      " [ 9.74289815]\n",
      " [ 9.55574734]\n",
      " [ 7.25311873]\n",
      " [10.49139246]\n",
      " [ 5.855342  ]\n",
      " [ 4.68265592]\n",
      " [ 5.52391455]\n",
      " [ 6.0777473 ]\n",
      " [ 8.44884992]\n",
      " [ 5.7967768 ]\n",
      " [ 5.84936937]\n",
      " [ 6.00261838]\n",
      " [14.94654586]\n",
      " [10.56027453]\n",
      " [14.254111  ]\n",
      " [ 4.53730597]\n",
      " [10.49266654]\n",
      " [-0.03503085]\n",
      " [ 6.30338076]\n",
      " [ 5.27461191]\n",
      " [ 6.89751476]\n",
      " [ 5.56656601]\n",
      " [ 7.14011958]\n",
      " [ 4.35073924]\n",
      " [10.31232907]\n",
      " [ 4.1489948 ]\n",
      " [ 3.4817964 ]\n",
      " [ 9.97299022]\n",
      " [ 8.93480737]\n",
      " [10.60902671]\n",
      " [11.01596922]\n",
      " [ 9.05717023]\n",
      " [ 4.02660874]\n",
      " [ 7.34286423]\n",
      " [ 7.7581252 ]\n",
      " [ 5.63435042]\n",
      " [ 4.67045971]\n",
      " [ 1.24353903]\n",
      " [ 6.13424912]\n",
      " [ 6.30070861]\n",
      " [ 7.31611813]\n",
      " [13.87596485]\n",
      " [ 5.4136584 ]\n",
      " [ 3.93896405]\n",
      " [ 2.23353166]\n",
      " [-0.87913911]\n",
      " [13.44779338]\n",
      " [ 9.21928804]\n",
      " [ 8.19609118]\n",
      " [ 9.97974155]\n",
      " [ 9.21257056]\n",
      " [ 6.56261857]\n",
      " [ 6.60951341]\n",
      " [ 5.2693979 ]\n",
      " [-0.40205122]\n",
      " [11.57954185]\n",
      " [ 9.15077496]\n",
      " [ 7.37130714]\n",
      " [11.71806114]\n",
      " [14.32729691]\n",
      " [ 5.72639283]\n",
      " [ 4.96187422]\n",
      " [ 9.6819257 ]\n",
      " [ 9.97106501]\n",
      " [ 5.79023523]\n",
      " [ 7.38440826]\n",
      " [ 7.9079496 ]\n",
      " [ 6.60302132]\n",
      " [ 6.98303515]\n",
      " [ 4.2962493 ]\n",
      " [ 7.50509642]]\n"
     ]
    }
   ],
   "source": [
    "Ycap = np.matmul(a,alpha)\n",
    "print(Ycap.shape)\n",
    "print(Ycap)"
   ]
  },
  {
   "cell_type": "code",
   "execution_count": 83,
   "metadata": {},
   "outputs": [
    {
     "data": {
      "text/plain": [
       "Text(0, 0.5, 'Dependent Variable')"
      ]
     },
     "execution_count": 83,
     "metadata": {},
     "output_type": "execute_result"
    },
    {
     "data": {
      "image/png": "[encoded data removed]",
      "text/plain": [
       "<Figure size 800x500 with 1 Axes>"
      ]
     },
     "metadata": {
      "needs_background": "light"
     },
     "output_type": "display_data"
    }
   ],
   "source": [
    "plt.figure(figsize=(8,5),dpi=100)\n",
    "plt.plot(X,Y,'.')\n",
    "plt.plot(X,Ycap)\n",
    "plt.xlabel(\"Independent Variable\")\n",
    "plt.ylabel(\"Dependent Variable\")"
   ]
  },
  {
   "cell_type": "markdown",
   "metadata": {},
   "source": [
    "### Check for Orthogonality."
   ]
  },
  {
   "cell_type": "code",
   "execution_count": 84,
   "metadata": {},
   "outputs": [],
   "source": [
    "Error_vector = Y - Ycap"
   ]
  },
  {
   "cell_type": "code",
   "execution_count": 85,
   "metadata": {},
   "outputs": [
    {
     "name": "stdout",
     "output_type": "stream",
     "text": [
      "[[9.86674422e-08]\n",
      " [6.35470343e-10]]\n"
     ]
    }
   ],
   "source": [
    "Check = np.dot(a_transpose,Error_vector)\n",
    "print(Check)"
   ]
  },
  {
   "cell_type": "markdown",
   "metadata": {},
   "source": [
    "## Since, we achieved zero matrix, it is obivious that Error vector is orthogonal to the column space of Data matrix."
   ]
  },
  {
   "cell_type": "code",
   "execution_count": null,
   "metadata": {},
   "outputs": [],
   "source": []
  },
  {
   "cell_type": "code",
   "execution_count": null,
   "metadata": {},
   "outputs": [],
   "source": []
  }
 ],
 "metadata": {
  "colab": {
   "collapsed_sections": [],
   "name": "q1.ipynb",
   "provenance": []
  },
  "kernelspec": {
   "display_name": "Python 3",
   "language": "python",
   "name": "python3"
  },
  "language_info": {
   "codemirror_mode": {
    "name": "ipython",
    "version": 3
   },
   "file_extension": ".py",
   "mimetype": "text/x-python",
   "name": "python",
   "nbconvert_exporter": "python",
   "pygments_lexer": "ipython3",
   "version": "3.8.5"
  }
 },
 "nbformat": 4,
 "nbformat_minor": 1
}
